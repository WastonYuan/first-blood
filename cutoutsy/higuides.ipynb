{
 "cells": [
  {
   "cell_type": "markdown",
   "metadata": {},
   "source": [
    "## Load Libraries"
   ]
  },
  {
   "cell_type": "code",
   "execution_count": 2,
   "metadata": {},
   "outputs": [
    {
     "name": "stderr",
     "output_type": "stream",
     "text": [
      "/usr/local/lib/python2.7/site-packages/sklearn/cross_validation.py:41: DeprecationWarning: This module was deprecated in version 0.18 in favor of the model_selection module into which all the refactored classes and functions are moved. Also note that the interface of the new CV iterators are different from that of this module. This module will be removed in 0.20.\n",
      "  \"This module will be removed in 0.20.\", DeprecationWarning)\n"
     ]
    }
   ],
   "source": [
    "#coding:utf-8\n",
    "import numpy as np\n",
    "import pandas as pd\n",
    "import xgboost as xgb\n",
    "\n",
    "from xgboost.sklearn import XGBClassifier\n",
    "from sklearn import cross_validation, metrics\n",
    "from sklearn.model_selection import GridSearchCV\n",
    "from sklearn.model_selection import train_test_split\n",
    "\n",
    "import matplotlib.pylab as plt\n",
    "%matplotlib inline\n",
    "\n",
    "#from matplotlib.pylab import rcParams\n",
    "#rcParams['figure.figsize'] = 12, 4\n",
    "plt.rcParams['font.sans-serif'] = ['SimHei']\n",
    "plt.rcParams['axes.unicode_minus']=False"
   ]
  },
  {
   "cell_type": "code",
   "execution_count": 3,
   "metadata": {},
   "outputs": [],
   "source": [
    "# Customizng plots with style sheets\n",
    "plt.style.use('ggplot')"
   ]
  },
  {
   "cell_type": "markdown",
   "metadata": {},
   "source": [
    "## Read train data"
   ]
  },
  {
   "cell_type": "code",
   "execution_count": 65,
   "metadata": {},
   "outputs": [
    {
     "name": "stdout",
     "output_type": "stream",
     "text": [
      "(1334856, 3)\n",
      "2016-08-13 20:10:58\n",
      "2017-09-10 23:57:45\n"
     ]
    }
   ],
   "source": [
    "basedir = \"../data/\"\n",
    "action_train = pd.read_csv(basedir + \"trainingset/action_train.csv\")\n",
    "orderFuture_train = pd.read_csv(basedir + \"trainingset/orderFuture_train.csv\")\n",
    "orderHistory_train = pd.read_csv(basedir + \"trainingset/orderHistory_train.csv\")\n",
    "userComment_train = pd.read_csv(basedir + \"trainingset/userComment_train.csv\")\n",
    "userProfile_train = pd.read_csv(basedir + \"trainingset/userProfile_train.csv\")\n",
    "# origin_train_data = pd.read_csv(basedir + \"origin_train_data.csv\")\n",
    "print action_train.shape\n",
    "print pd.to_datetime(action_train['actionTime'].min(), unit='s')\n",
    "print pd.to_datetime(action_train['actionTime'].max(), unit='s')"
   ]
  },
  {
   "cell_type": "markdown",
   "metadata": {},
   "source": [
    "## Read Test Data"
   ]
  },
  {
   "cell_type": "code",
   "execution_count": 66,
   "metadata": {},
   "outputs": [
    {
     "name": "stdout",
     "output_type": "stream",
     "text": [
      "(331204, 3)\n",
      "2016-09-14 16:45:04\n",
      "2017-09-10 23:50:38\n"
     ]
    }
   ],
   "source": [
    "action_test = pd.read_csv(basedir + \"test/action_test.csv\")\n",
    "orderFuture_test = pd.read_csv(basedir + \"test/orderFuture_test.csv\")\n",
    "orderHistory_test = pd.read_csv(basedir + \"test/orderHistory_test.csv\")\n",
    "userComment_test = pd.read_csv(basedir + \"test/userComment_test.csv\")\n",
    "userProfile_test = pd.read_csv(basedir + \"test/userProfile_test.csv\")\n",
    "print action_test.shape\n",
    "print pd.to_datetime(action_test['actionTime'].min(), unit='s')\n",
    "print pd.to_datetime(action_test['actionTime'].max(), unit='s')"
   ]
  },
  {
   "cell_type": "markdown",
   "metadata": {},
   "source": [
    "## Check missing"
   ]
  },
  {
   "cell_type": "code",
   "execution_count": 67,
   "metadata": {},
   "outputs": [
    {
     "name": "stdout",
     "output_type": "stream",
     "text": [
      "(40307, 4)\n",
      "userid          0\n",
      "gender      24547\n",
      "province     3895\n",
      "age         35565\n",
      "dtype: int64\n",
      "userid         0\n",
      "gender      6067\n",
      "province    1004\n",
      "age         8857\n",
      "dtype: int64\n",
      "(40307, 2)\n",
      "userid                 0\n",
      "orderid                0\n",
      "rating                 0\n",
      "tags                3109\n",
      "commentsKeyWords    5771\n",
      "dtype: int64\n"
     ]
    }
   ],
   "source": [
    "print userProfile_train.shape\n",
    "print userProfile_train.isnull().sum()\n",
    "print userProfile_test.isnull().sum()\n",
    "print orderFuture_train.shape\n",
    "print userComment_train.isnull().sum()\n",
    "# print userProfile_train.province.mode()"
   ]
  },
  {
   "cell_type": "code",
   "execution_count": null,
   "metadata": {},
   "outputs": [],
   "source": [
    "userProfile_train['province'].value_counts().plot(kind='bar', figsize=(16, 5))\n",
    "plt.xticks(rotation=40)\n",
    "plt.ylabel(\"$users num$\")\n",
    "plt.title('$Province$')"
   ]
  },
  {
   "cell_type": "code",
   "execution_count": null,
   "metadata": {},
   "outputs": [],
   "source": [
    "userProfile_train['gender'].value_counts().plot(kind='bar', figsize=(8, 5))\n",
    "plt.title('$Gender$')"
   ]
  },
  {
   "cell_type": "code",
   "execution_count": null,
   "metadata": {},
   "outputs": [],
   "source": [
    "userProfile_train['age'].value_counts().plot(kind='bar', figsize=(8, 5))\n",
    "plt.title('$Age$')"
   ]
  },
  {
   "cell_type": "code",
   "execution_count": null,
   "metadata": {},
   "outputs": [],
   "source": [
    "action_train['actionType'].value_counts().plot(kind='bar', figsize=(8, 5))\n",
    "plt.title('$actionType$')"
   ]
  },
  {
   "cell_type": "code",
   "execution_count": 5,
   "metadata": {},
   "outputs": [
    {
     "data": {
      "text/plain": [
       "Text(0.5,1,u'$orderType$')"
      ]
     },
     "execution_count": 5,
     "metadata": {},
     "output_type": "execute_result"
    },
    {
     "data": {
      "image/png": "[encoded data removed]",
      "text/plain": [
       "<matplotlib.figure.Figure at 0x10b898a10>"
      ]
     },
     "metadata": {},
     "output_type": "display_data"
    }
   ],
   "source": [
    "orderHistory_train['orderType'].value_counts().plot(kind='bar', figsize=(8, 5))\n",
    "plt.title('$orderType$')"
   ]
  },
  {
   "cell_type": "code",
   "execution_count": null,
   "metadata": {},
   "outputs": [],
   "source": [
    "orderHistory_train['country'].value_counts().plot(kind='bar', figsize=(16, 5))\n",
    "plt.title('$country$')"
   ]
  },
  {
   "cell_type": "code",
   "execution_count": null,
   "metadata": {},
   "outputs": [],
   "source": [
    "orderHistory_train['continent'].value_counts().plot(kind='bar', figsize=(16, 5))\n",
    "plt.title('$continent$')"
   ]
  },
  {
   "cell_type": "code",
   "execution_count": null,
   "metadata": {},
   "outputs": [],
   "source": [
    "userComment_train['rating'].value_counts().plot(kind='bar', figsize=(8, 5))\n",
    "plt.title('$rating$')"
   ]
  },
  {
   "cell_type": "code",
   "execution_count": null,
   "metadata": {},
   "outputs": [],
   "source": [
    "orderHistory_train.groupby(['userid']).size().value_counts().plot(kind='bar', figsize=(16, 7))\n",
    "# orderHistory_train.groupby(['userid']).size().plot(kind='bar', figsize=(10, 7))"
   ]
  },
  {
   "cell_type": "markdown",
   "metadata": {},
   "source": [
    "根据上图的结果，绝大用户历史订单数量在1个或2个，结合后面的特征重要度，可见统计每个用户每个月的订单数量是不合理的。"
   ]
  },
  {
   "cell_type": "markdown",
   "metadata": {},
   "source": [
    "## Look at categories of all object variables:"
   ]
  },
  {
   "cell_type": "code",
   "execution_count": null,
   "metadata": {},
   "outputs": [],
   "source": [
    "var = ['gender', 'province', 'age']\n",
    "for v in var:\n",
    "    print '\\nFrequency count for variable %s'%v\n",
    "    print userProfile_train[v].value_counts()\n",
    "    print userProfile_test[v].value_counts()"
   ]
  },
  {
   "cell_type": "code",
   "execution_count": null,
   "metadata": {},
   "outputs": [],
   "source": [
    "var = ['orderType']\n",
    "for v in var:\n",
    "    print '\\nFrequency count for variable %s'%v\n",
    "    print orderFuture_train[v].value_counts()\n",
    "\n",
    "var = ['actionType']\n",
    "for v in var:\n",
    "    print '\\nFrequency count for variable %s'%v\n",
    "    print action_train[v].value_counts()"
   ]
  },
  {
   "cell_type": "code",
   "execution_count": null,
   "metadata": {},
   "outputs": [],
   "source": [
    "var = ['rating']\n",
    "for v in var:\n",
    "    print '\\nFrequency count for variable %s'%v\n",
    "    print userComment_train[v].value_counts()"
   ]
  },
  {
   "cell_type": "markdown",
   "metadata": {},
   "source": [
    "## 针对orderHistory数据文件生成特征\n",
    "**绝大多数用户的订单只有一个或者两个，所以只使用订单间隔的平均值作为特征**"
   ]
  },
  {
   "cell_type": "code",
   "execution_count": 63,
   "metadata": {},
   "outputs": [],
   "source": [
    "continent_gdp = pd.read_csv(basedir + \"continent.csv\")\n",
    "def createFeatureFromOrderHistory(orderHistoryFile, saveFile):\n",
    "    orderHistory = pd.read_csv(basedir + orderHistoryFile)\n",
    "    orderHistory = pd.merge(orderHistory, continent_gdp, on=[\"continent\",], how='left')\n",
    "    orderHistory = orderHistory.sort_values(by='orderTime', ascending=True)\n",
    "    orderHistory_group = orderHistory.groupby(\"userid\")\n",
    "    orderHistory_dict = dict(list(orderHistory_group))\n",
    "    orderHistory_time = []\n",
    "    for userid, userid_orderHistory in orderHistory_dict.iteritems():\n",
    "        orderTimeList = np.unique(np.array(userid_orderHistory['orderTime']))\n",
    "        orderTypeList = np.array(userid_orderHistory['orderType'])\n",
    "        # 统计orderType(0, 1)的个数\n",
    "        orderTypeZeroSum = np.sum(orderTypeList == 0)\n",
    "        orderTypeOneSum = np.sum(orderTypeList == 1)\n",
    "        oneTime = []\n",
    "        oneTime.append(userid)\n",
    "        oneTime.append(orderTypeZeroSum)\n",
    "        oneTime.append(orderTypeOneSum)\n",
    "        # 统计用户历史订单中大陆的gdp均值\n",
    "        oneTime.append(np.array(userid_orderHistory['continent_gdp']).mean())\n",
    "        orderTimeInterval = []\n",
    "        if len(orderTimeList) == 1:\n",
    "            orderTimeInterval = [0]\n",
    "        else:\n",
    "            timeInterval = np.diff(orderTimeList)\n",
    "            orderTimeInterval = [timeInterval.mean()]\n",
    "        oneTime = oneTime + orderTimeInterval\n",
    "        timeInterval = np.diff(orderTimeList)\n",
    "        if len(timeInterval) < 3:\n",
    "            timeInterval = [0] * (3 - len(timeInterval)) + list(timeInterval)\n",
    "            timeInterval = np.array(timeInterval)\n",
    "        oneTime = oneTime + list(timeInterval[-1:])\n",
    "        orderHistory_time.append(oneTime)\n",
    "    #     print oneTime\n",
    "    columns = ['userid', 'orderType0Sum', 'orderType1Sum', 'continent_gdp', 'orderTimeMean', 'orderTimeInter1']\n",
    "    df = pd.DataFrame(np.array(orderHistory_time), columns=columns)\n",
    "    df.to_csv(basedir + saveFile, index=False)\n",
    "createFeatureFromOrderHistory(\"orderHistory_train.csv\", \"feature_orderHistory_train.csv\")\n",
    "createFeatureFromOrderHistory(\"orderHistory_test.csv\", \"feature_orderHistory_test.csv\")"
   ]
  },
  {
   "cell_type": "markdown",
   "metadata": {},
   "source": [
    "## 针对userComment数据生成特征"
   ]
  },
  {
   "cell_type": "code",
   "execution_count": 46,
   "metadata": {},
   "outputs": [
    {
     "name": "stdout",
     "output_type": "stream",
     "text": [
      "         userid  order_num  rating_mean  continent_gdp_mean\n",
      "0  100000000371        1.0          NaN              0.6460\n",
      "1  100000001215        NaN          NaN                 NaN\n",
      "2  100000001445        5.0          5.0              1.4602\n"
     ]
    }
   ],
   "source": [
    "def createFeatureFromUserComment(dataset):\n",
    "    userComment = pd.read_csv(basedir + \"userComment_\" + dataset + \".csv\")\n",
    "    \n",
    "    userComment_dict = dict(list(userComment.groupby('userid')))\n",
    "    userComment_feature = []\n",
    "    for userid, userComment in orderHistory_dict.iteritems():\n",
    "        orderTimeList = np.unique(np.array(userid_orderHistory['orderTime']))\n",
    "        orderTypeList = np.array(userid_orderHistory['orderType'])\n",
    "#     \n",
    "    return orderDf\n",
    "\n",
    "\n",
    "print createFeature(\"test\").head(3)\n"
   ]
  },
  {
   "cell_type": "code",
   "execution_count": 7,
   "metadata": {},
   "outputs": [
    {
     "name": "stdout",
     "output_type": "stream",
     "text": [
      "40307\n"
     ]
    }
   ],
   "source": [
    "# print action_train[action_train.userid == 100000000013]['userid'].count()\n",
    "action_train_group = action_train.groupby('userid')\n",
    "user_action_dict = dict(list(action_train_group))\n",
    "action9_order_result = []\n",
    "count = 0\n",
    "for userid, userid_action in user_action_dict.iteritems():\n",
    "    actionTypeList = np.array(userid_action['actionType'])\n",
    "    type9 = np.count_nonzero(actionTypeList == 9)\n",
    "    orderNum = orderHistory_train[orderHistory_train.userid == userid]['userid'].count()\n",
    "    action9_order_result.append([userid, type9, orderNum])\n",
    "    count = count + 1\n",
    "#     if count == 10:\n",
    "#         break\n",
    "print count\n",
    "columns = ['userid', 'actionType9', 'orderNum']\n",
    "df = pd.DataFrame(np.array(action9_order_result), columns=columns)\n",
    "df = pd.merge(df, orderFuture_train, on=['userid'], how='left')\n",
    "df.to_csv(basedir + \"type9_order.csv\", index=False)"
   ]
  },
  {
   "cell_type": "code",
   "execution_count": 47,
   "metadata": {},
   "outputs": [
    {
     "name": "stdout",
     "output_type": "stream",
     "text": [
      "userid             int64\n",
      "gender            object\n",
      "age               object\n",
      "province_rate    float64\n",
      "dtype: object\n",
      "         userid gender  age  province_rate\n",
      "0  100000000013      男  60后          0.110\n",
      "1  100000000111    NaN  NaN          0.255\n",
      "2  100000000127    NaN  NaN          0.255\n",
      "3  100000000231      男  70后          0.241\n",
      "4  100000000379      男  NaN          0.241\n",
      "5  100000000393      女  NaN          0.241\n",
      "6  100000000423    NaN  NaN          0.005\n",
      "7  100000000459    NaN  NaN          0.241\n",
      "8  100000000465    NaN  NaN          0.241\n",
      "9  100000000471      女  NaN          0.110\n"
     ]
    }
   ],
   "source": [
    "city_data = pd.read_csv(basedir + \"city_info.data\", delimiter='\\t', names = ['province', 'city_gdp', 'city_gdp1'])\n",
    "city_data.drop('city_gdp1', axis=1, inplace=True)\n",
    "city_rate = pd.read_csv(basedir + \"city_rate.csv\")\n",
    "def createUserProfileFeature(dataset):\n",
    "    userProfile = pd.read_csv(basedir + \"userProfile_\" + dataset + \".csv\")\n",
    "    #userProfile_deal = pd.merge(userProfile, city_data, on=['province'], how='left')\n",
    "    userProfile_deal = pd.merge(userProfile, city_rate, on=['province'], how='left')\n",
    "    # 利用province_rate的中位值填充缺失值\n",
    "    userProfile_deal['province_rate'].fillna(userProfile_deal['province_rate'].median(), inplace=True)\n",
    "    userProfile_deal.drop('province', axis=1, inplace=True)\n",
    "    print userProfile_deal.dtypes\n",
    "    # userProfile_deal.drop('city_gdp', axis=1, inplace=True)\n",
    "    # userProfile_deal['age'].fillna(\"null\", inplace=True)\n",
    "\n",
    "    def convertAge(x):\n",
    "        if x == 'null':\n",
    "            return 0\n",
    "        x = str(x)\n",
    "        num = int(x.split('后')[0])\n",
    "        if(num == 0):\n",
    "             return 18\n",
    "        else:\n",
    "            return 2018 - 1900 - num\n",
    "\n",
    "    #userProfile_deal['age'] = userProfile_deal['age'].apply(lambda x: convertAge(x))\n",
    "    return userProfile_deal\n",
    "print createUserProfileFeature(\"train\").head(10)"
   ]
  },
  {
   "cell_type": "code",
   "execution_count": 48,
   "metadata": {},
   "outputs": [
    {
     "name": "stdout",
     "output_type": "stream",
     "text": [
      "         userid  actionTime_mean  actionTime_max  actionTime_min  \\\n",
      "0  100000000013     1.487925e+09      1503238340      1474300753   \n",
      "1  100000000111     1.490971e+09      1490971479      1490971433   \n",
      "2  100000000127     1.492553e+09      1497815268      1490695669   \n",
      "\n",
      "   actionTime_std  \n",
      "0    8.187104e+06  \n",
      "1    2.371357e+01  \n",
      "2    2.994918e+06  \n"
     ]
    }
   ],
   "source": [
    "def createActionTimeFeature(dataset):\n",
    "    action_dataset = pd.read_csv(basedir + \"action_\" + dataset + \".csv\")\n",
    "    orderFuture = pd.read_csv(basedir + \"orderFuture_\" + dataset + \".csv\")\n",
    "    \n",
    "    action_train_group = action_dataset.groupby('userid')\n",
    "    actionDf = pd.DataFrame(orderFuture['userid'], columns = ['userid'])\n",
    "\n",
    "    actionDf = actionDf.join(action_train_group['actionTime'].mean(), on='userid')\n",
    "    actionDf.rename(columns={'actionTime': 'actionTime_mean'}, inplace=True)\n",
    "    actionDf = actionDf.join(action_train_group['actionTime'].max(), on='userid')\n",
    "    actionDf.rename(columns={'actionTime': 'actionTime_max'}, inplace=True)\n",
    "    actionDf = actionDf.join(action_train_group['actionTime'].min(), on='userid')\n",
    "    actionDf.rename(columns={'actionTime': 'actionTime_min'}, inplace=True)\n",
    "    actionDf = actionDf.join(action_train_group['actionTime'].std(), on='userid')\n",
    "    actionDf.rename(columns={'actionTime': 'actionTime_std'}, inplace=True)\n",
    "    return actionDf\n",
    "\n",
    "print createActionTimeFeature('train').head(3)"
   ]
  },
  {
   "cell_type": "code",
   "execution_count": 58,
   "metadata": {},
   "outputs": [
    {
     "name": "stdout",
     "output_type": "stream",
     "text": [
      "userid             int64\n",
      "gender            object\n",
      "age               object\n",
      "province_rate    float64\n",
      "dtype: object\n",
      "(40307, 20)\n",
      "userid             int64\n",
      "gender            object\n",
      "age               object\n",
      "province_rate    float64\n",
      "dtype: object\n",
      "(10076, 20)\n",
      "None\n",
      "Index([u'userid', u'label', u'province_rate', u'order_num', u'rating_mean',\n",
      "       u'continent_gdp_mean', u'month1', u'month2', u'month3', u'month4',\n",
      "       ...\n",
      "       u'action5DistanceTime', u'action6DistanceTime', u'action7DistanceTime',\n",
      "       u'action8DistanceTime', u'action9DistanceTime', u'type1IntervalMin',\n",
      "       u'type1IntervalMax', u'type1IntervalMean', u'type1IntervalStd',\n",
      "       u'tagScore'],\n",
      "      dtype='object', length=102)\n",
      "Index([u'userid', u'province_rate', u'order_num', u'rating_mean',\n",
      "       u'continent_gdp_mean', u'month1', u'month2', u'month3', u'month4',\n",
      "       u'month5',\n",
      "       ...\n",
      "       u'action5DistanceTime', u'action6DistanceTime', u'action7DistanceTime',\n",
      "       u'action8DistanceTime', u'action9DistanceTime', u'type1IntervalMin',\n",
      "       u'type1IntervalMax', u'type1IntervalMean', u'type1IntervalStd',\n",
      "       u'tagScore'],\n",
      "      dtype='object', length=101)\n"
     ]
    }
   ],
   "source": [
    "def createTotalFeatures(dataset):\n",
    "    action_type_rate = pd.read_csv(basedir + \"action_rate_\" + dataset + \".csv\")\n",
    "    user_month_action = pd.read_csv(basedir + \"user_month_\" + dataset + \".csv\")\n",
    "    order_time = pd.read_csv(basedir + 'feature_orderHistory_' + dataset + \".csv\")\n",
    "    orderDf = createFeature(dataset)\n",
    "    #actionDf = createActionTimeFeature(dataset)\n",
    "    userProfile_deal = createUserProfileFeature(dataset)\n",
    "    \n",
    "    action_result = pd.merge(user_month_action, action_type_rate, on=[\"userid\"], how='left')\n",
    "    print action_result.shape\n",
    "    train_data = pd.merge(orderDf, action_result, on=['userid'], how='left')\n",
    "    \n",
    "    train_data = pd.merge(train_data, order_time, on=['userid'], how='left')\n",
    "    # train_data = pd.merge(train_data, actionDf, on=['userid'], how='left')\n",
    "    train_data = pd.merge(userProfile_deal, train_data, on = ['userid'], how = 'left')\n",
    "    if dataset == 'train':\n",
    "        train_data = pd.merge(orderFuture_train, train_data, on=['userid'], how='left')\n",
    "        train_data.rename(columns={'orderType': 'label'}, inplace=True)\n",
    "\n",
    "    action_interval_train = pd.read_csv(basedir + \"action_interval_\"+ dataset + \".csv\")\n",
    "    train_data = pd.merge(train_data, action_interval_train, on=['userid'], how='left')\n",
    "    \n",
    "    tag_score = pd.read_csv(basedir + \"user_tagScore_\" + dataset + \".csv\")\n",
    "    train_data = pd.merge(train_data, tag_score, on=['userid'], how='left')\n",
    "\n",
    "    # One-Hot Coding\n",
    "    # data = pd.get_dummies(data, columns=var_to_encode)\n",
    "#     train_data = pd.get_dummies(train_data, columns=['gender'], dummy_na=True)\n",
    "    #train_data = pd.get_dummies(train_data, columns=['province'], dummy_na=True)\n",
    "#     train_data = pd.get_dummies(train_data, columns=['age'], dummy_na=True)\n",
    "    train_data.drop('age', axis=1, inplace=True)\n",
    "    train_data.drop('gender', axis=1, inplace=True)\n",
    "    \n",
    "    return train_data\n",
    "\n",
    "train_data =  createTotalFeatures('train')\n",
    "test_data = createTotalFeatures('test')\n",
    "print train_data.head(1).to_csv(basedir + \"train_data.csv\", index=False)\n",
    "print train_data.columns \n",
    "print test_data.columns"
   ]
  },
  {
   "cell_type": "code",
   "execution_count": 50,
   "metadata": {},
   "outputs": [],
   "source": [
    "target='label'\n",
    "IDcol = 'userid'\n",
    "predictors = [x for x in train_data.columns if x not in [target, IDcol]]"
   ]
  },
  {
   "cell_type": "code",
   "execution_count": 51,
   "metadata": {},
   "outputs": [],
   "source": [
    "def modelfit(alg, dtrain, dtest, predictors,useTrainCV=True, cv_folds=5, early_stopping_rounds=50):\n",
    "    \n",
    "    if useTrainCV:\n",
    "        xgb_param = alg.get_xgb_params()\n",
    "        #  指定训练数据集和标签\n",
    "        xgtrain = xgb.DMatrix(dtrain[predictors].values, label=dtrain[target].values)\n",
    "        # 指定测试数据集\n",
    "        xgtest = xgb.DMatrix(dtest[predictors].values)\n",
    "        \n",
    "        cvresult = xgb.cv(xgb_param, xgtrain, num_boost_round=alg.get_params()['n_estimators'], nfold=cv_folds,\n",
    "            metrics='auc', early_stopping_rounds=early_stopping_rounds)\n",
    "        print cvresult.shape[0]\n",
    "        alg.set_params(n_estimators=cvresult.shape[0])\n",
    "    \n",
    "    alg.fit(dtrain[predictors], dtrain['label'], eval_metric='auc')\n",
    "    \n",
    "    dtest_predictions = alg.predict(dtest[predictors])\n",
    "    dtest_predprob = alg.predict_proba(dtest[predictors])[:,1]\n",
    "        \n",
    "    #Print model report:\n",
    "    print \"\\nModel Report\"\n",
    "    print \"Accuracy : %.4g\" % metrics.accuracy_score(dtest['label'].values, dtest_predictions)\n",
    "    print \"AUC Score (Train): %f\" % metrics.roc_auc_score(dtest['label'], dtest_predprob)\n",
    "                \n",
    "    feat_imp = pd.Series(alg.booster().get_fscore()).sort_values(ascending=False)\n",
    "    feat_imp.to_csv(basedir + \"feature_importance.csv\", index=True)\n",
    "    print feat_imp\n",
    "    feat_imp.plot(kind='bar', title='Feature Importances', figsize=(16, 5))\n",
    "#     plt.xticks(rotation=40)\n",
    "    plt.ylabel('Feature Importance Score')"
   ]
  },
  {
   "cell_type": "code",
   "execution_count": 52,
   "metadata": {
    "scrolled": false
   },
   "outputs": [
    {
     "name": "stdout",
     "output_type": "stream",
     "text": [
      "421\n",
      "\n",
      "Model Report\n",
      "Accuracy : 0.9313\n",
      "AUC Score (Train): 0.953592\n",
      "lastInteval2           348\n",
      "actionType6Rate        324\n",
      "action5min             322\n",
      "lastInteval1           321\n",
      "lastInteval4           304\n",
      "lastInteval3           277\n",
      "intevalMean            276\n",
      "actionType5Rate        251\n",
      "firstInteval           249\n",
      "last3IntevalStd        241\n",
      "action1min             236\n",
      "actionType1Rate        225\n",
      "type1IntervalMin       215\n",
      "intevalStd             209\n",
      "action6min             180\n",
      "last3IntevalMean       172\n",
      "intevalMin             171\n",
      "action5mean            169\n",
      "province_rate          169\n",
      "last1Action            165\n",
      "type1IntervalMean      155\n",
      "action1mean            152\n",
      "type1IntervalMax       151\n",
      "month4                 147\n",
      "action5DistanceTime    147\n",
      "tagScore               145\n",
      "action1DistanceTime    139\n",
      "action1std             137\n",
      "action5std             134\n",
      "actionType7Rate        131\n",
      "                      ... \n",
      "action7std              33\n",
      "action8max              33\n",
      "action2Distance         33\n",
      "firstAction             33\n",
      "action7mean             32\n",
      "action8mean             32\n",
      "action3mean             28\n",
      "action6Distance         27\n",
      "action8Distance         26\n",
      "action4DistanceTime     25\n",
      "action3Distance         25\n",
      "action9mean             25\n",
      "order_num               24\n",
      "action9std              24\n",
      "action7DistanceTime     23\n",
      "rating_mean             23\n",
      "action9min              23\n",
      "action4std              22\n",
      "action2std              22\n",
      "action7max              21\n",
      "action2max              20\n",
      "action4Distance         20\n",
      "action3std              20\n",
      "action9Distance         18\n",
      "action9max              16\n",
      "action3DistanceTime     15\n",
      "action4max              14\n",
      "action9DistanceTime     11\n",
      "action7Distance         11\n",
      "action3max              10\n",
      "Length: 99, dtype: int64\n"
     ]
    },
    {
     "data": {
      "image/png": "[encoded data removed]",
      "text/plain": [
       "<matplotlib.figure.Figure at 0x108f1f6d0>"
      ]
     },
     "metadata": {},
     "output_type": "display_data"
    }
   ],
   "source": [
    "xgb1 = XGBClassifier(\n",
    "        learning_rate=0.1,\n",
    "        n_estimators=1000,\n",
    "        max_depth=5, # 树的最大深度\n",
    "        min_child_weight=1, # 决定最小叶子节点样本权重和\n",
    "        # 在节点分裂时，只有分裂后损失函数的值下降了，才会分裂这个节点，Gamma指定了节点分裂所需的最小损失函数下降值\n",
    "        # 值越大，算法越保守\n",
    "        gamma=0, \n",
    "        subsample=0.8, # 控制对于每颗树，随机采样的比例，0.8适合本题目\n",
    "        colsample_bytree=0.8, # 控制每棵树随机采样的列数的占比\n",
    "        objective= 'binary:logistic',\n",
    "        # nthread=4, XGBoost运行时的线程数，缺省值是当前系统可以获得的最大线程数\n",
    "        scale_pos_weight=1, # 在各类样本十分不平衡时，把这个参数设定为一个正值，可以使算法更快收敛\n",
    "        seed=27 # 随机数的种子，设置它可以复现随机数据的结果，也可以用于调整参数\n",
    "        )\n",
    "\n",
    "train_data_sample = train_data.sample(frac=1.0)  # 全部打乱\n",
    "cut_idx = int(round(0.2 * train_data.shape[0]))\n",
    "train_test, train_train = train_data.iloc[:cut_idx], train_data.iloc[cut_idx:]\n",
    "# print train_data.shape, train_test.shape, train_train.shape  # (40307, 126) (8061, 126) (32246, 126)\n",
    "\n",
    "modelfit(xgb1, train_train, train_test, predictors, cv_folds=5)"
   ]
  },
  {
   "cell_type": "code",
   "execution_count": 14,
   "metadata": {},
   "outputs": [],
   "source": [
    "# xgb1.fit(train_data[predictors], train_data[target], eval_metric='auc')\n",
    "prob = xgb1.predict_proba(test_data[predictors])[:,1]\n",
    "submit = pd.read_csv(basedir + \"test/orderFuture_test.csv\")\n",
    "submit['orderType'] = prob\n",
    "submit.to_csv(basedir + \"submit_20180119.csv\", index = False)"
   ]
  },
  {
   "cell_type": "code",
   "execution_count": null,
   "metadata": {},
   "outputs": [],
   "source": [
    "xgb2 = XGBClassifier(\n",
    "        learning_rate=0.1,\n",
    "        n_estimators=505,\n",
    "        max_depth=5,\n",
    "        min_child_weight=1,\n",
    "        gamma=0,\n",
    "        subsample=0.8,\n",
    "        colsample_bytree=0.8,\n",
    "        objective= 'binary:logistic',\n",
    "        nthread=4,\n",
    "        scale_pos_weight=1,\n",
    "        seed=27)\n",
    "\n",
    "train_data_sample = train_data.sample(frac=1.0)  # 全部打乱\n",
    "cut_idx = int(round(0.3 * train_data_sample.shape[0]))\n",
    "train_test, train_train = train_data_sample.iloc[:cut_idx], train_data_sample.iloc[cut_idx:]\n",
    "# print train_data.shape, train_test.shape, train_train.shape  # (40307, 126) (8061, 126) (32246, 126)\n",
    "\n",
    "# modelfit(xgb1, train_data, train_data, predictors, cv_folds=5)\n",
    "xgb2.fit(train_train[predictors], train_train['label'], eval_metric='auc')\n",
    "\n",
    "dtest_predictions = xgb2.predict(train_test[predictors])\n",
    "dtest_predprob = xgb2.predict_proba(train_test[predictors])[:,1]\n",
    "        \n",
    "#Print model report:\n",
    "print \"\\nModel Report\"\n",
    "print \"Accuracy : %.4g\" % metrics.accuracy_score(train_test['label'].values, dtest_predictions)\n",
    "print \"AUC Score (Train): %f\" % metrics.roc_auc_score(train_test['label'], dtest_predprob)"
   ]
  },
  {
   "cell_type": "code",
   "execution_count": null,
   "metadata": {},
   "outputs": [],
   "source": [
    "predictors = [x for x in train_data.columns if x not in [target, IDcol]]\n",
    "xgb1 = XGBClassifier(\n",
    "        learning_rate =0.1,\n",
    "        n_estimators=505,\n",
    "        max_depth=5,\n",
    "        min_child_weight=1,\n",
    "        gamma=0,\n",
    "        subsample=0.8,\n",
    "        colsample_bytree=0.8,\n",
    "        objective= 'binary:logistic',\n",
    "        nthread=4,\n",
    "        scale_pos_weight=1,\n",
    "        seed=27)\n",
    "xgb1.fit(train_data[predictors], train_data[target], eval_metric='auc')\n",
    "prob = xgb1.predict_proba(test_data[predictors])[:,1]\n",
    "submit = pd.read_csv(basedir + \"test/orderFuture_test.csv\")\n",
    "submit['orderType'] = prob\n",
    "print submit.to_csv(basedir + \"submit_20180115.csv\", index = False)"
   ]
  },
  {
   "cell_type": "code",
   "execution_count": null,
   "metadata": {},
   "outputs": [],
   "source": [
    "# param_test1 = {\n",
    "#     'max_depth':range(3,10,2),\n",
    "#     'min_child_weight':range(1,6,2)\n",
    "# }\n",
    "predictors = [x for x in train_data.columns if x not in [target, IDcol]]\n",
    "param_test1 = {\n",
    "    'max_depth':range(3,10,2),\n",
    "    'min_child_weight':range(1,6,2)\n",
    "}\n",
    "# iid: 独立同分布\n",
    "gsearch1 = GridSearchCV(estimator = XGBClassifier(learning_rate =0.1, n_estimators=259, max_depth=5,\n",
    "                                        min_child_weight=1, gamma=0, subsample=0.8, colsample_bytree=0.8,\n",
    "                                        objective= 'binary:logistic', nthread=4, scale_pos_weight=1, seed=27), \n",
    "                       param_grid = param_test1, scoring='roc_auc', n_jobs=1, iid=False, cv=5, verbose=5)\n",
    "gsearch1.fit(train_data[predictors], train_data[target])"
   ]
  },
  {
   "cell_type": "code",
   "execution_count": null,
   "metadata": {},
   "outputs": [],
   "source": [
    "gsearch1.grid_scores_, gsearch1.best_params_, gsearch1.best_score_"
   ]
  },
  {
   "cell_type": "code",
   "execution_count": null,
   "metadata": {},
   "outputs": [],
   "source": [
    "predictors = [x for x in train_data.columns if x not in [target, IDcol]]\n",
    "param_test1 = {\n",
    "    'gamma':[i/10.0 for i in range(0,5)]\n",
    "}\n",
    "gsearch1 = GridSearchCV(estimator = XGBClassifier( learning_rate =0.1, n_estimators=337, max_depth=5,\n",
    "                                        min_child_weight=1, gamma=0, subsample=0.8, colsample_bytree=0.8,\n",
    "                                        objective= 'binary:logistic', nthread=4, scale_pos_weight=1, seed=27), \n",
    "                       param_grid = param_test1, scoring='roc_auc',n_jobs=1,iid=False, cv=5, verbose=5)\n",
    "gsearch1.fit(train_data[predictors],train_data[target])"
   ]
  },
  {
   "cell_type": "code",
   "execution_count": null,
   "metadata": {},
   "outputs": [],
   "source": [
    "gsearch1.grid_scores_, gsearch1.best_params_, gsearch1.best_score_"
   ]
  },
  {
   "cell_type": "code",
   "execution_count": null,
   "metadata": {},
   "outputs": [],
   "source": [
    "predictors = [x for x in train_data.columns if x not in [target, IDcol]]\n",
    "xgb1 = XGBClassifier(\n",
    "        learning_rate =0.4,\n",
    "        n_estimators=505,\n",
    "        max_depth=5,\n",
    "        min_child_weight=1,\n",
    "        gamma=0,\n",
    "        subsample=0.8,\n",
    "        colsample_bytree=0.8,\n",
    "        objective= 'binary:logistic',\n",
    "        nthread=4,\n",
    "        scale_pos_weight=1,\n",
    "        seed=27)\n",
    "modelfit(xgb1, train_data, train_data, predictors, cv_folds=5)"
   ]
  },
  {
   "cell_type": "code",
   "execution_count": null,
   "metadata": {},
   "outputs": [],
   "source": [
    "predictors = [x for x in train_data.columns if x not in [target, IDcol]]\n",
    "xgb1 = XGBClassifier(\n",
    "        learning_rate =0.4,\n",
    "        n_estimators=375,\n",
    "        max_depth=5,\n",
    "        min_child_weight=1,\n",
    "        gamma=0,\n",
    "        subsample=0.8,\n",
    "        colsample_bytree=0.8,\n",
    "        objective= 'binary:logistic',\n",
    "        nthread=4,\n",
    "        scale_pos_weight=1,\n",
    "        seed=27)\n",
    "modelfit(xgb1, train_data, train_data, predictors, cv_folds=5)"
   ]
  },
  {
   "cell_type": "code",
   "execution_count": null,
   "metadata": {},
   "outputs": [],
   "source": [
    "prob = xgb1.predict_proba(test_data[predictors])[:,1]\n",
    "submit = pd.read_csv(basedir + \"test/orderFuture_test.csv\")\n",
    "submit['orderType'] = prob\n",
    "print submit.to_csv(basedir + \"submit_c.csv\", index = False)"
   ]
  },
  {
   "cell_type": "code",
   "execution_count": null,
   "metadata": {},
   "outputs": [],
   "source": []
  }
 ],
 "metadata": {
  "kernelspec": {
   "display_name": "Python 2",
   "language": "python",
   "name": "python2"
  },
  "language_info": {
   "codemirror_mode": {
    "name": "ipython",
    "version": 2
   },
   "file_extension": ".py",
   "mimetype": "text/x-python",
   "name": "python",
   "nbconvert_exporter": "python",
   "pygments_lexer": "ipython2",
   "version": "2.7.11"
  }
 },
 "nbformat": 4,
 "nbformat_minor": 2
}
