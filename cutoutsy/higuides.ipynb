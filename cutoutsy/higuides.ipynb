{
 "cells": [
  {
   "cell_type": "markdown",
   "metadata": {},
   "source": [
    "## Load Libraries"
   ]
  },
  {
   "cell_type": "code",
   "execution_count": 2,
   "metadata": {},
   "outputs": [
    {
     "name": "stderr",
     "output_type": "stream",
     "text": [
      "/usr/local/lib/python2.7/site-packages/sklearn/cross_validation.py:41: DeprecationWarning: This module was deprecated in version 0.18 in favor of the model_selection module into which all the refactored classes and functions are moved. Also note that the interface of the new CV iterators are different from that of this module. This module will be removed in 0.20.\n",
      "  \"This module will be removed in 0.20.\", DeprecationWarning)\n"
     ]
    }
   ],
   "source": [
    "import numpy as np\n",
    "import pandas as pd\n",
    "import xgboost as xgb\n",
    "#from itertools import groupby\n",
    "\n",
    "from xgboost.sklearn import XGBClassifier\n",
    "from sklearn import cross_validation, metrics\n",
    "from sklearn.model_selection import GridSearchCV\n",
    "\n",
    "import matplotlib.pylab as plt\n",
    "%matplotlib inline\n",
    "from matplotlib.pylab import rcParams\n",
    "rcParams['figure.figsize'] = 12, 4"
   ]
  },
  {
   "cell_type": "markdown",
   "metadata": {},
   "source": [
    "## Read train data"
   ]
  },
  {
   "cell_type": "code",
   "execution_count": 3,
   "metadata": {},
   "outputs": [
    {
     "name": "stdout",
     "output_type": "stream",
     "text": [
      "(1334856, 3)\n",
      "2016-08-13 20:10:58\n",
      "2017-09-10 23:57:45\n"
     ]
    }
   ],
   "source": [
    "basedir = \"../data/\"\n",
    "action_train = pd.read_csv(basedir + \"trainingset/action_train.csv\")\n",
    "orderFuture_train = pd.read_csv(basedir + \"trainingset/orderFuture_train.csv\")\n",
    "orderHistory_train = pd.read_csv(basedir + \"trainingset/orderHistory_train.csv\")\n",
    "userComment_train = pd.read_csv(basedir + \"trainingset/userComment_train.csv\")\n",
    "userProfile_train = pd.read_csv(basedir + \"trainingset/userProfile_train.csv\")\n",
    "# origin_train_data = pd.read_csv(basedir + \"origin_train_data.csv\")\n",
    "print action_train.shape\n",
    "print pd.to_datetime(action_train['actionTime'].min(), unit='s')\n",
    "print pd.to_datetime(action_train['actionTime'].max(), unit='s')"
   ]
  },
  {
   "cell_type": "markdown",
   "metadata": {},
   "source": [
    "## Read Test Data"
   ]
  },
  {
   "cell_type": "code",
   "execution_count": 4,
   "metadata": {},
   "outputs": [
    {
     "name": "stdout",
     "output_type": "stream",
     "text": [
      "(331204, 3)\n",
      "2016-09-14 16:45:04\n",
      "2017-09-10 23:50:38\n"
     ]
    }
   ],
   "source": [
    "action_test = pd.read_csv(basedir + \"test/action_test.csv\")\n",
    "orderFuture_test = pd.read_csv(basedir + \"test/orderFuture_test.csv\")\n",
    "orderHistory_test = pd.read_csv(basedir + \"test/orderHistory_test.csv\")\n",
    "userComment_test = pd.read_csv(basedir + \"test/userComment_test.csv\")\n",
    "userProfile_test = pd.read_csv(basedir + \"test/userProfile_test.csv\")\n",
    "print action_test.shape\n",
    "print pd.to_datetime(action_test['actionTime'].min(), unit='s')\n",
    "print pd.to_datetime(action_test['actionTime'].max(), unit='s')"
   ]
  },
  {
   "cell_type": "markdown",
   "metadata": {},
   "source": [
    "## Check missing"
   ]
  },
  {
   "cell_type": "code",
   "execution_count": 9,
   "metadata": {},
   "outputs": [
    {
     "name": "stdout",
     "output_type": "stream",
     "text": [
      "(40307, 4)\n",
      "userid          0\n",
      "gender      24547\n",
      "province     3895\n",
      "age         35565\n",
      "dtype: int64\n"
     ]
    }
   ],
   "source": [
    "print userProfile_train.shape\n",
    "print userProfile_train.apply(lambda x : sum(x.isnull()))"
   ]
  },
  {
   "cell_type": "markdown",
   "metadata": {},
   "source": [
    "## Look at categories of all object variables:"
   ]
  },
  {
   "cell_type": "code",
   "execution_count": 3,
   "metadata": {},
   "outputs": [
    {
     "name": "stdout",
     "output_type": "stream",
     "text": [
      "\n",
      "Frequency count for variable gender\n",
      "女    8620\n",
      "男    7140\n",
      "Name: gender, dtype: int64\n",
      "\n",
      "Frequency count for variable province\n",
      "上海     9760\n",
      "北京     8301\n",
      "广东     4784\n",
      "江苏     2813\n",
      "浙江     2447\n",
      "四川     1310\n",
      "湖北      741\n",
      "辽宁      725\n",
      "天津      722\n",
      "福建      693\n",
      "重庆      617\n",
      "山东      510\n",
      "湖南      334\n",
      "陕西      323\n",
      "广西      288\n",
      "云南      242\n",
      "黑龙江     234\n",
      "河南      228\n",
      "江西      214\n",
      "安徽      206\n",
      "河北      203\n",
      "贵州      143\n",
      "吉林      143\n",
      "山西      108\n",
      "内蒙古      79\n",
      "新疆       69\n",
      "甘肃       69\n",
      "海南       61\n",
      "宁夏       30\n",
      "青海       11\n",
      "西藏        4\n",
      "Name: province, dtype: int64\n",
      "\n",
      "Frequency count for variable age\n",
      "80后    1667\n",
      "70后    1308\n",
      "60后    1061\n",
      "90后     621\n",
      "00后      85\n",
      "Name: age, dtype: int64\n"
     ]
    }
   ],
   "source": [
    "var = ['gender', 'province', 'age']\n",
    "for v in var:\n",
    "    print '\\nFrequency count for variable %s'%v\n",
    "    print userProfile_train[v].value_counts()"
   ]
  },
  {
   "cell_type": "code",
   "execution_count": 10,
   "metadata": {},
   "outputs": [
    {
     "name": "stdout",
     "output_type": "stream",
     "text": [
      "(20653, 10)\n",
      "userid                int64\n",
      "orderid               int64\n",
      "orderTime             int64\n",
      "orderType             int64\n",
      "city                 object\n",
      "country              object\n",
      "continent            object\n",
      "rating              float64\n",
      "tags                 object\n",
      "commentsKeyWords     object\n",
      "dtype: object\n",
      "         userid  orderid   orderTime  orderType city country continent  \\\n",
      "0  100000000013  1000015  1481714516          0   柏林      德国        欧洲   \n",
      "\n",
      "   rating tags     commentsKeyWords  \n",
      "0     4.0  NaN  ['很','简陋','太','随便']  \n"
     ]
    }
   ],
   "source": [
    "var = ['orderType']\n",
    "for v in var:\n",
    "    print '\\nFrequency count for variable %s'%v\n",
    "    print orderFuture_train[v].value_counts()\n",
    "\n",
    "var = ['actionType']\n",
    "for v in var:\n",
    "    print '\\nFrequency count for variable %s'%v\n",
    "    print action_train[v].value_counts()"
   ]
  },
  {
   "cell_type": "markdown",
   "metadata": {},
   "source": [
    "## Merge user Order History and comment"
   ]
  },
  {
   "cell_type": "code",
   "execution_count": 14,
   "metadata": {},
   "outputs": [
    {
     "name": "stdout",
     "output_type": "stream",
     "text": [
      "         userid  orderid   orderTime  orderType city country continent  \\\n",
      "0  100000000371  1000029  1503443585          0   东京      日本        亚洲   \n",
      "\n",
      "   rating tags commentsKeyWords  continent_gdp  \n",
      "0     NaN  NaN              NaN          0.646  \n",
      "         userid  order_num  rating_mean  rating_max  rating_min  rating_std  \\\n",
      "0  100000000371        1.0          NaN         NaN         NaN         NaN   \n",
      "1  100000001215        NaN          NaN         NaN         NaN         NaN   \n",
      "2  100000001445        5.0          5.0         5.0         5.0         NaN   \n",
      "\n",
      "   orderType_sum  continent_gdp_mean  continent_gdp_max  continent_gdp_min  \\\n",
      "0            0.0              0.6460              0.646              0.646   \n",
      "1            NaN                 NaN                NaN                NaN   \n",
      "2            0.0              1.4602              4.717              0.646   \n",
      "\n",
      "       ...        order_month3  order_month4  order_month5  order_month6  \\\n",
      "0      ...                 0.0           0.0           0.0           0.0   \n",
      "1      ...                 NaN           NaN           NaN           NaN   \n",
      "2      ...                 0.0           1.0           0.0           0.0   \n",
      "\n",
      "   order_month7  order_month8  order_month9  order_month10  order_month11  \\\n",
      "0           0.0           1.0           0.0            0.0            0.0   \n",
      "1           NaN           NaN           NaN            NaN            NaN   \n",
      "2           0.0           0.0           0.0            0.0            4.0   \n",
      "\n",
      "   order_month12  \n",
      "0            0.0  \n",
      "1            NaN  \n",
      "2            0.0  \n",
      "\n",
      "[3 rows x 23 columns]\n"
     ]
    }
   ],
   "source": [
    "continent_gdp = pd.read_csv(basedir + \"continent.csv\")\n",
    "def createFeature(dataset):\n",
    "    orderHistory = pd.read_csv(basedir + \"orderHistory_\" + dataset + \".csv\")\n",
    "    userComment = pd.read_csv(basedir + \"userComment_\" + dataset + \".csv\")\n",
    "    orderFuture = pd.read_csv(basedir + \"orderFuture_\" + dataset + \".csv\")\n",
    "    userOrderHistoryComment = pd.merge(orderHistory, userComment, on=[\"userid\", \"orderid\"], how='left')\n",
    "    userOrderHistoryComment = pd.merge(userOrderHistoryComment, continent_gdp, on=[\"continent\",], how='left')\n",
    "    print userOrderHistoryComment.head(1)\n",
    "    userOrderHistoryComment.drop('commentsKeyWords', axis=1, inplace=True)\n",
    "    userOrderHistoryComment.drop('orderid', axis=1, inplace=True)\n",
    "    \n",
    "    userOrderHistoryComment_group = userOrderHistoryComment.groupby('userid')\n",
    "\n",
    "    orderDf = pd.DataFrame(orderFuture['userid'], columns = ['userid'])\n",
    "\n",
    "\n",
    "    orderDf = orderDf.join(userOrderHistoryComment_group['orderType'].count(), on='userid')\n",
    "    orderDf.rename(columns={'orderType': 'order_num'}, inplace=True)\n",
    "\n",
    "    orderDf = orderDf.join(userOrderHistoryComment_group['rating'].mean(), on='userid')\n",
    "    orderDf.rename(columns={'rating': 'rating_mean'}, inplace=True)\n",
    "    orderDf = orderDf.join(userOrderHistoryComment_group['rating'].max(), on='userid')\n",
    "    orderDf.rename(columns={'rating': 'rating_max'}, inplace=True)\n",
    "    orderDf = orderDf.join(userOrderHistoryComment_group['rating'].min(), on='userid')\n",
    "    orderDf.rename(columns={'rating': 'rating_min'}, inplace=True)\n",
    "    orderDf = orderDf.join(userOrderHistoryComment_group['rating'].std(), on='userid')\n",
    "    orderDf.rename(columns={'rating': 'rating_std'}, inplace=True)\n",
    "\n",
    "    # Order Time\n",
    "#     orderDf = orderDf.join(userOrderHistoryComment_group['orderTime'].mean(), on='userid')\n",
    "#     orderDf.rename(columns={'orderTime': 'orderTime_mean'}, inplace=True)\n",
    "#     orderDf = orderDf.join(userOrderHistoryComment_group['orderTime'].median(), on='userid')\n",
    "#     orderDf.rename(columns={'orderTime': 'orderTime_median'}, inplace=True)\n",
    "#     orderDf = orderDf.join(userOrderHistoryComment_group['orderTime'].min(), on='userid')\n",
    "#     orderDf.rename(columns={'orderTime': 'orderTime_min'}, inplace=True)\n",
    "#     orderDf = orderDf.join(userOrderHistoryComment_group['orderTime'].std(), on='userid')\n",
    "#     orderDf.rename(columns={'orderTime': 'orderTime_std'}, inplace=True)\n",
    "\n",
    "    orderDf = orderDf.join(userOrderHistoryComment_group['orderType'].sum(), on='userid')\n",
    "    orderDf.rename(columns={'orderType': 'orderType_sum'}, inplace=True)\n",
    "\n",
    "    orderDf = orderDf.join(userOrderHistoryComment_group['continent_gdp'].mean(), on='userid')\n",
    "    orderDf.rename(columns={'continent_gdp': 'continent_gdp_mean'}, inplace=True)\n",
    "    orderDf = orderDf.join(userOrderHistoryComment_group['continent_gdp'].max(), on='userid')\n",
    "    orderDf.rename(columns={'continent_gdp': 'continent_gdp_max'}, inplace=True)\n",
    "    orderDf = orderDf.join(userOrderHistoryComment_group['continent_gdp'].min(), on='userid')\n",
    "    orderDf.rename(columns={'continent_gdp': 'continent_gdp_min'}, inplace=True)\n",
    "    orderDf = orderDf.join(userOrderHistoryComment_group['continent_gdp'].std(), on='userid')\n",
    "    orderDf.rename(columns={'continent_gdp': 'continent_gdp_std'}, inplace=True)\n",
    "\n",
    "    order_month = pd.read_csv(basedir + \"order_month_\" + dataset + \".csv\")\n",
    "    orderDf = pd.merge(orderDf, order_month, on=[\"userid\"], how='left')\n",
    "    return orderDf\n",
    "\n",
    "\n",
    "print createFeature(\"test\").head(3)\n"
   ]
  },
  {
   "cell_type": "code",
   "execution_count": 6,
   "metadata": {},
   "outputs": [
    {
     "name": "stdout",
     "output_type": "stream",
     "text": [
      "userid        int64\n",
      "gender       object\n",
      "age          object\n",
      "city_gdp    float64\n",
      "dtype: object\n",
      "         userid gender  age   city_gdp\n",
      "0  100000000371    NaN    0  102919.55\n",
      "1  100000001215    NaN    0        NaN\n",
      "2  100000001445      男    0        NaN\n",
      "3  100000001575      女    0        NaN\n",
      "4  100000001601    NaN    0  102919.55\n",
      "5  100000001737      男    0  102919.55\n",
      "6  100000001829      男   58  106751.25\n",
      "7  100000002055      男    0        NaN\n",
      "8  100000002241    NaN    0  106751.25\n",
      "9  100000003067    NaN    0  109032.71\n"
     ]
    }
   ],
   "source": [
    "city_data = pd.read_csv(basedir + \"city_info.data\", delimiter='\\t', names = ['province', 'city_gdp', 'city_gdp1'])\n",
    "city_data.drop('city_gdp1', axis=1, inplace=True)\n",
    "def createUserProfileFeature(dataset):\n",
    "    userProfile = pd.read_csv(basedir + \"userProfile_\" + dataset + \".csv\")\n",
    "    userProfile_deal = pd.merge(userProfile, city_data, on=['province'], how='left')\n",
    "    userProfile_deal.drop('province', axis=1, inplace=True)\n",
    "    print userProfile_deal.dtypes\n",
    "    userProfile_deal['age'].fillna(\"null\", inplace=True)\n",
    "\n",
    "    def convertAge(x):\n",
    "        if x == 'null':\n",
    "            return 0\n",
    "        x = str(x)\n",
    "        num = int(x.split('后')[0])\n",
    "        if(num == 0):\n",
    "             return 18\n",
    "        else:\n",
    "            return 2018 - 1900 - num\n",
    "\n",
    "    userProfile_deal['age'] = userProfile_deal['age'].apply(lambda x: convertAge(x))\n",
    "    return userProfile_deal\n",
    "print createUserProfileFeature(\"test\").head(10)"
   ]
  },
  {
   "cell_type": "code",
   "execution_count": 6,
   "metadata": {},
   "outputs": [
    {
     "name": "stdout",
     "output_type": "stream",
     "text": [
      "userid        int64\n",
      "gender       object\n",
      "age          object\n",
      "city_gdp    float64\n",
      "dtype: object\n",
      "         userid gender  age   city_gdp\n",
      "0  100000000013      男   58        NaN\n",
      "1  100000000111    NaN    0  102919.55\n",
      "2  100000000127    NaN    0  102919.55\n",
      "3  100000000231      男   48  106751.25\n",
      "4  100000000379      男    0  106751.25\n",
      "5  100000000393      女    0  106751.25\n",
      "6  100000000423    NaN    0        NaN\n",
      "7  100000000459    NaN    0  106751.25\n",
      "8  100000000465    NaN    0  106751.25\n",
      "9  100000000471      女    0        NaN\n"
     ]
    }
   ],
   "source": [
    "# 城市GDP有好多城市不存在\n",
    "city_data = pd.read_csv(basedir + \"city_info.data\", delimiter='\\t', names = ['province', 'city_gdp', 'city_gdp1'])\n",
    "city_data.drop('city_gdp1', axis=1, inplace=True)\n",
    "userProfile_deal = pd.merge(userProfile_train, city_data, on=['province'], how='left')\n",
    "# userProfile_deal.drop('city_gdp', axis=1, inplace=True)\n",
    "# userProfile_deal.drop('gender', axis=1, inplace=True)\n",
    "userProfile_deal.drop('province', axis=1, inplace=True)\n",
    "print userProfile_deal.dtypes\n",
    "userProfile_deal['age'].fillna(\"null\", inplace=True)\n",
    "\n",
    "def convertAge(x):\n",
    "    if x == 'null':\n",
    "        return 0\n",
    "    x = str(x)\n",
    "    num = int(x.split('后')[0])\n",
    "    if(num == 0):\n",
    "         return 18\n",
    "    else:\n",
    "        return 2018 - 1900 - num\n",
    "\n",
    "userProfile_deal['age'] = userProfile_deal['age'].apply(lambda x: convertAge(x))\n",
    "\n",
    "print userProfile_deal.head(10)"
   ]
  },
  {
   "cell_type": "code",
   "execution_count": 8,
   "metadata": {},
   "outputs": [
    {
     "name": "stdout",
     "output_type": "stream",
     "text": [
      "         userid  actionTime_mean  actionTime_max  actionTime_min  \\\n",
      "0  100000000013     1.487925e+09      1503238340      1474300753   \n",
      "1  100000000111     1.490971e+09      1490971479      1490971433   \n",
      "2  100000000127     1.492553e+09      1497815268      1490695669   \n",
      "\n",
      "   actionTime_std  \n",
      "0    8.187104e+06  \n",
      "1    2.371357e+01  \n",
      "2    2.994918e+06  \n"
     ]
    }
   ],
   "source": [
    "def createActionTimeFeature(dataset):\n",
    "    action_dataset = pd.read_csv(basedir + \"action_\" + dataset + \".csv\")\n",
    "    orderFuture = pd.read_csv(basedir + \"orderFuture_\" + dataset + \".csv\")\n",
    "    \n",
    "    action_train_group = action_dataset.groupby('userid')\n",
    "    actionDf = pd.DataFrame(orderFuture['userid'], columns = ['userid'])\n",
    "\n",
    "    actionDf = actionDf.join(action_train_group['actionTime'].mean(), on='userid')\n",
    "    actionDf.rename(columns={'actionTime': 'actionTime_mean'}, inplace=True)\n",
    "    actionDf = actionDf.join(action_train_group['actionTime'].max(), on='userid')\n",
    "    actionDf.rename(columns={'actionTime': 'actionTime_max'}, inplace=True)\n",
    "    actionDf = actionDf.join(action_train_group['actionTime'].min(), on='userid')\n",
    "    actionDf.rename(columns={'actionTime': 'actionTime_min'}, inplace=True)\n",
    "    actionDf = actionDf.join(action_train_group['actionTime'].std(), on='userid')\n",
    "    actionDf.rename(columns={'actionTime': 'actionTime_std'}, inplace=True)\n",
    "    return actionDf\n",
    "\n",
    "print createActionTimeFeature('train').head(3)"
   ]
  },
  {
   "cell_type": "code",
   "execution_count": 8,
   "metadata": {},
   "outputs": [],
   "source": [
    "action_train = action_train.sort_values(by='actionTime', ascending=True)\n",
    "action_train_group = action_train.groupby(\"userid\")\n",
    "user_action_dict = dict(list(action_train_group))"
   ]
  },
  {
   "cell_type": "code",
   "execution_count": 30,
   "metadata": {},
   "outputs": [
    {
     "name": "stdout",
     "output_type": "stream",
     "text": [
      "              userid  actionType  actionTime\n",
      "698597  111491416116           7  1495416093\n",
      "---------\n",
      "[0 0 0 0]\n",
      "[111491416116, 7, 0, 0, 7]\n",
      "[111491416116, 7, 0, 0, 7, 0.0, 0.0, 0, 0, 0, 0, 0, 0]\n",
      "15\n",
      "[0, 0, 0, 0]\n",
      "[0, 0, 0, 0]\n",
      "[0, 0, 0, 0]\n",
      "[0, 0, 0, 0]\n",
      "[0, 0, 0, 0]\n",
      "[0, 0.0, 0.0, 0]\n",
      "[0, 0, 0, 0]\n",
      "[0, 0, 0, 0]\n",
      "47\n",
      "55\n",
      "1\n",
      "2\n",
      "3\n",
      "4\n",
      "5\n",
      "6\n",
      "7\n",
      "8\n",
      "9\n",
      "[111491416116, 7, 0, 0, 7, 0.0, 0.0, 0, 0, 0, 0, 0, 0, 0.0, 0.0, 0, 0, 0, 0, 0, 0, 0, 0, 0, 0, 0, 0, 0, 0, 0, 0, 0, 0, 0, 0, 0, 0.0, 0.0, 0, 0, 0, 0, 0, 0, 0, 0, 0, 0, 0, 0, 0, 0, 4, 0, 0, 0, 0, 0, 0, 0, 0, 0, 0, 0]\n",
      "64\n"
     ]
    }
   ],
   "source": [
    "print user_action_dict[111491416116]\n",
    "print \"---------\"\n",
    "count = 0\n",
    "actionTimeIntevalResult = []\n",
    "for userid, userid_action in user_action_dict.iteritems():\n",
    "    userid = 111491416116\n",
    "    userid_action = user_action_dict[111491416116]\n",
    "    actionTimeIntevalResult.append(userid)\n",
    "    actionTimeList = np.array(userid_action['actionTime'])\n",
    "    actionTypeList = np.array(userid_action['actionType'])\n",
    "    timeInterval = np.diff(actionTimeList)\n",
    "    if len(timeInterval) == 0:\n",
    "        # timeInterval = np.hstack(np.array([0] * (4 - len(timeInterval))), timeInterval)\n",
    "        timeInterval = [0] * (4 - len(timeInterval)) + list(timeInterval)\n",
    "        # timeInterval = np.array([0] * (4 - len(timeInterval))).hstack(timeInterval)\n",
    "        timeInterval =  np.array(timeInterval)\n",
    "    print timeInterval\n",
    "    firstActionType = userid_action.head(1)['actionType']\n",
    "    actionTimeIntevalResult = actionTimeIntevalResult + list(firstActionType)\n",
    "    lastThreeActionType = userid_action.tail(3)['actionType']\n",
    "    actionTimeIntevalResult = actionTimeIntevalResult + [0]*(3 - len(list(lastThreeActionType))) + list(lastThreeActionType)\n",
    "    print actionTimeIntevalResult\n",
    "    actionTimeIntevalResult = actionTimeIntevalResult + [timeInterval.mean(), timeInterval.std(), timeInterval.min()] + list(timeInterval[0:1]) + list(timeInterval[-4:])\n",
    "    #print [timeInterval.mean(), timeInterval.std(), timeInterval.min(), timeInterval[0:1], timeInterval[-4:]] \n",
    "    print actionTimeIntevalResult\n",
    "    actionTimeIntevalResult = actionTimeIntevalResult + [timeInterval[-3:].mean(), timeInterval[-3:].std()]\n",
    "    # print [timeInterval[-3:].mean(), timeInterval[-3:].std()]\n",
    "    print len(actionTimeIntevalResult)\n",
    "    \n",
    "    # 离最近的1-9的时间间隔统计\n",
    "    IntevalDiff = []\n",
    "    for i in range(2, 10):\n",
    "        lastIndex = np.where(actionTypeList==i)\n",
    "        if len(lastIndex[-1]) == 0:\n",
    "            action29 = [0, 0, 0, 0]\n",
    "        else:\n",
    "            lastIndex = lastIndex[-1][-1]\n",
    "            if len(timeInterval[lastIndex:]) == 0:\n",
    "                action29 = [0, 0, 0, 0]\n",
    "            else:\n",
    "                action29 = [timeInterval[lastIndex:].min(), timeInterval[lastIndex:].mean(), timeInterval[lastIndex:].std(), timeInterval[lastIndex:].max()]\n",
    "        IntevalDiff = IntevalDiff + action29\n",
    "        print action29\n",
    "    actionTimeIntevalResult = actionTimeIntevalResult + IntevalDiff\n",
    "    print len(actionTimeIntevalResult)\n",
    "    \n",
    "    # 距离统计\n",
    "    actionDis = []\n",
    "    for i in range(2, 10):\n",
    "        lastIndex = np.where(actionTypeList==i)\n",
    "        if len(lastIndex[-1]) == 0:\n",
    "            actionDistance = 0\n",
    "        else:\n",
    "            lastIndex = lastIndex[-1][-1]\n",
    "            actionDistance = len(timeInterval[lastIndex:])\n",
    "        actionDis =  actionDis + [actionDistance]\n",
    "    actionTimeIntevalResult = actionTimeIntevalResult + actionDis\n",
    "    print len(actionTimeIntevalResult)\n",
    "    \n",
    "    # 距离时间统计\n",
    "    disTime = []\n",
    "    for i in range(1, 10):\n",
    "        lastIndex = np.where(actionTypeList==i)\n",
    "        if len(lastIndex[-1]) == 0:\n",
    "            actionTime = 0\n",
    "        else:\n",
    "            lastIndex = lastIndex[-1][-1]\n",
    "            actionTime = timeInterval[lastIndex:].sum()\n",
    "        disTime = disTime + [actionTime]\n",
    "        print len(disTime)\n",
    "    actionTimeIntevalResult = actionTimeIntevalResult + disTime\n",
    "    print actionTimeIntevalResult\n",
    "    print len(actionTimeIntevalResult)\n",
    "    count = count + 1\n",
    "    if count == 1:\n",
    "        break\n",
    "columns = [\"userid\", \"firstAction\", \"last3Action\", \"last2Action\", \"last1Action\", \"intevalMean\", \"intevalStd\", \"intevalMin\", \"firstInteval\", \"lastInteval4\", \"lastInteval3\", \"lastInteval2\", \"lastInteval1\", \"last3IntevalMean\", \"last3IntevalStd\"]\n",
    "for i in range(2, 10):\n",
    "    columns = columns + [\"action\" + str(i)+\"min\", \"action\" + str(i)+\"mean\", \"action\" + str(i)+\"std\", \"action\" + str(i)+\"max\"]\n",
    "for i in range(2, 10):\n",
    "    columns = columns + [\"action\" + str(i)+\"Distance\"]\n",
    "for i in range(1, 10):\n",
    "    columns = columns + [\"action\" + str(i)+\"DistanceTime\"]\n"
   ]
  },
  {
   "cell_type": "code",
   "execution_count": 19,
   "metadata": {},
   "outputs": [
    {
     "name": "stdout",
     "output_type": "stream",
     "text": [
      "         userid  orderid   orderTime  orderType city country continent  \\\n",
      "0  100000000013  1000015  1481714516          0   柏林      德国        欧洲   \n",
      "\n",
      "   rating tags     commentsKeyWords  continent_gdp  \n",
      "0     4.0  NaN  ['很','简陋','太','随便']          2.634  \n",
      "userid        int64\n",
      "gender       object\n",
      "age          object\n",
      "city_gdp    float64\n",
      "dtype: object\n",
      "(40307, 31)\n",
      "         userid  orderid   orderTime  orderType city country continent  \\\n",
      "0  100000000371  1000029  1503443585          0   东京      日本        亚洲   \n",
      "\n",
      "   rating tags commentsKeyWords  continent_gdp  \n",
      "0     NaN  NaN              NaN          0.646  \n",
      "userid        int64\n",
      "gender       object\n",
      "age          object\n",
      "city_gdp    float64\n",
      "dtype: object\n",
      "(10076, 31)\n",
      "None\n",
      "Index([u'userid', u'label', u'age', u'city_gdp', u'order_num', u'rating_mean',\n",
      "       u'rating_max', u'rating_min', u'rating_std', u'orderType_sum',\n",
      "       ...\n",
      "       u'action3DistanceTime', u'action4DistanceTime', u'action5DistanceTime',\n",
      "       u'action6DistanceTime', u'action7DistanceTime', u'action8DistanceTime',\n",
      "       u'action9DistanceTime', u'gender_女', u'gender_男', u'gender_nan'],\n",
      "      dtype='object', length=122)\n"
     ]
    }
   ],
   "source": [
    "def createTotalFeatures(dataset):\n",
    "    action_type_rate = pd.read_csv(basedir + \"action_rate_\" + dataset + \".csv\")\n",
    "    user_month_action = pd.read_csv(basedir + \"user_month_\" + dataset + \".csv\")\n",
    "    orderDf = createFeature(dataset)\n",
    "    #actionDf = createActionTimeFeature(dataset)\n",
    "    userProfile_deal = createUserProfileFeature(dataset)\n",
    "    \n",
    "    action_result = pd.merge(user_month_action, action_type_rate, on=[\"userid\"], how='left')\n",
    "    print action_result.shape\n",
    "    train_data = pd.merge(orderDf, action_result, on=['userid'], how='left')\n",
    "    # train_data = pd.merge(train_data, actionDf, on=['userid'], how='left')\n",
    "    train_data = pd.merge(userProfile_deal, train_data, on = ['userid'], how = 'left')\n",
    "    if dataset == 'train':\n",
    "        train_data = pd.merge(orderFuture_train, train_data, on=['userid'], how='left')\n",
    "        train_data.rename(columns={'orderType': 'label'}, inplace=True)\n",
    "\n",
    "    action_interval_train = pd.read_csv(basedir + \"action_interval_\"+ dataset + \".csv\")\n",
    "    train_data = pd.merge(train_data, action_interval_train, on=['userid'], how='left')\n",
    "\n",
    "\n",
    "    # One-Hot Coding\n",
    "    # data = pd.get_dummies(data, columns=var_to_encode)\n",
    "    train_data = pd.get_dummies(train_data, columns=['gender'], dummy_na=True)\n",
    "    return train_data\n",
    "\n",
    "train_data =  createTotalFeatures('train')\n",
    "test_data = createTotalFeatures('test')\n",
    "print train_data.head(1).to_csv(basedir + \"train_data.csv\")\n",
    "print train_data.columns    "
   ]
  },
  {
   "cell_type": "code",
   "execution_count": 16,
   "metadata": {},
   "outputs": [],
   "source": [
    "target='label'\n",
    "IDcol = 'userid'"
   ]
  },
  {
   "cell_type": "code",
   "execution_count": 17,
   "metadata": {},
   "outputs": [],
   "source": [
    "def modelfit(alg, dtrain, dtest, predictors,useTrainCV=True, cv_folds=5, early_stopping_rounds=50):\n",
    "    \n",
    "    if useTrainCV:\n",
    "        xgb_param = alg.get_xgb_params()\n",
    "        #  指定训练数据集和标签\n",
    "        xgtrain = xgb.DMatrix(dtrain[predictors].values, label=dtrain[target].values)\n",
    "        # 指定测试数据集\n",
    "        xgtest = xgb.DMatrix(dtest[predictors].values)\n",
    "        \n",
    "        cvresult = xgb.cv(xgb_param, xgtrain, num_boost_round=alg.get_params()['n_estimators'], nfold=cv_folds,\n",
    "            metrics='auc', early_stopping_rounds=early_stopping_rounds)\n",
    "        print cvresult.shape[0]\n",
    "        alg.set_params(n_estimators=cvresult.shape[0])\n",
    "    \n",
    "    #Fit the algorithm on the data\n",
    "    alg.fit(dtrain[predictors], dtrain['label'], eval_metric='auc')\n",
    "        \n",
    "    #Predict training set:\n",
    "    dtrain_predictions = alg.predict(dtrain[predictors])\n",
    "    dtrain_predprob = alg.predict_proba(dtrain[predictors])[:,1]\n",
    "        \n",
    "    #Print model report:\n",
    "    print \"\\nModel Report\"\n",
    "    print \"Accuracy : %.4g\" % metrics.accuracy_score(dtrain['label'].values, dtrain_predictions)\n",
    "    print \"AUC Score (Train): %f\" % metrics.roc_auc_score(dtrain['label'], dtrain_predprob)\n",
    "                \n",
    "    feat_imp = pd.Series(alg.booster().get_fscore()).sort_values(ascending=False)\n",
    "    feat_imp.plot(kind='bar', title='Feature Importances')\n",
    "    plt.ylabel('Feature Importance Score')"
   ]
  },
  {
   "cell_type": "code",
   "execution_count": 18,
   "metadata": {},
   "outputs": [
    {
     "name": "stdout",
     "output_type": "stream",
     "text": [
      "375\n",
      "\n",
      "Model Report\n",
      "Accuracy : 0.9626\n",
      "AUC Score (Train): 0.988542\n"
     ]
    },
    {
     "data": {
      "image/png": "[encoded data removed]",
      "text/plain": [
       "<matplotlib.figure.Figure at 0x113343fd0>"
      ]
     },
     "metadata": {},
     "output_type": "display_data"
    }
   ],
   "source": [
    "predictors = [x for x in train_data.columns if x not in [target, IDcol]]\n",
    "xgb1 = XGBClassifier(\n",
    "        learning_rate =0.1,\n",
    "        n_estimators=375,\n",
    "        max_depth=5,\n",
    "        min_child_weight=1,\n",
    "        gamma=0,\n",
    "        subsample=0.8,\n",
    "        colsample_bytree=0.8,\n",
    "        objective= 'binary:logistic',\n",
    "        nthread=4,\n",
    "        scale_pos_weight=1,\n",
    "        seed=27)\n",
    "modelfit(xgb1, train_data, train_data, predictors, cv_folds=5)"
   ]
  },
  {
   "cell_type": "code",
   "execution_count": 18,
   "metadata": {},
   "outputs": [
    {
     "name": "stdout",
     "output_type": "stream",
     "text": [
      "None\n"
     ]
    }
   ],
   "source": [
    "xgtrain = xgb.DMatrix(train_data[predictors].values, label=train_data[target].values)\n",
    "        # 指定测试数据集\n",
    "xgtest = xgb.DMatrix(test_data[predictors].values)\n",
    "        \n",
    "watchlist = [(xgtrain,'train'), (xgtest,'eval')]\n",
    "# save_dtrain = xgb.DMatrix(save_train_x, label=save_train_y)\n",
    "save_bst = xgb.train(xgb1.get_xgb_params(), xgtrain, num_round, watchlist, early_stopping_rounds=50)\n",
    "\n",
    "prob = save_bst.predict_proba(test_data[predictors])[:,1]\n",
    "submit = pd.read_csv(basedir + \"test/orderFuture_test.csv\")\n",
    "submit['orderType'] = prob\n",
    "print submit.to_csv(basedir + \"submit_c.csv\", index = False)"
   ]
  },
  {
   "cell_type": "code",
   "execution_count": 16,
   "metadata": {},
   "outputs": [
    {
     "name": "stdout",
     "output_type": "stream",
     "text": [
      "Fitting 5 folds for each of 12 candidates, totalling 60 fits\n",
      "[CV] max_depth=3, min_child_weight=1 .................................\n",
      "[CV]  max_depth=3, min_child_weight=1, score=0.948774579134, total=  11.2s\n",
      "[CV] max_depth=3, min_child_weight=1 .................................\n"
     ]
    },
    {
     "name": "stderr",
     "output_type": "stream",
     "text": [
      "[Parallel(n_jobs=1)]: Done   1 out of   1 | elapsed:   11.4s remaining:    0.0s\n"
     ]
    },
    {
     "name": "stdout",
     "output_type": "stream",
     "text": [
      "[CV]  max_depth=3, min_child_weight=1, score=0.948490538031, total=  11.1s\n",
      "[CV] max_depth=3, min_child_weight=1 .................................\n"
     ]
    },
    {
     "name": "stderr",
     "output_type": "stream",
     "text": [
      "[Parallel(n_jobs=1)]: Done   2 out of   2 | elapsed:   22.8s remaining:    0.0s\n"
     ]
    },
    {
     "name": "stdout",
     "output_type": "stream",
     "text": [
      "[CV]  max_depth=3, min_child_weight=1, score=0.953725406714, total=  11.2s\n",
      "[CV] max_depth=3, min_child_weight=1 .................................\n"
     ]
    },
    {
     "name": "stderr",
     "output_type": "stream",
     "text": [
      "[Parallel(n_jobs=1)]: Done   3 out of   3 | elapsed:   34.2s remaining:    0.0s\n"
     ]
    },
    {
     "name": "stdout",
     "output_type": "stream",
     "text": [
      "[CV]  max_depth=3, min_child_weight=1, score=0.949288139201, total=  11.4s\n",
      "[CV] max_depth=3, min_child_weight=1 .................................\n"
     ]
    },
    {
     "name": "stderr",
     "output_type": "stream",
     "text": [
      "[Parallel(n_jobs=1)]: Done   4 out of   4 | elapsed:   45.8s remaining:    0.0s\n"
     ]
    },
    {
     "name": "stdout",
     "output_type": "stream",
     "text": [
      "[CV]  max_depth=3, min_child_weight=1, score=0.945340384529, total=  11.3s\n",
      "[CV] max_depth=3, min_child_weight=3 .................................\n",
      "[CV]  max_depth=3, min_child_weight=3, score=0.94900720045, total=  11.6s\n",
      "[CV] max_depth=3, min_child_weight=3 .................................\n",
      "[CV]  max_depth=3, min_child_weight=3, score=0.949261946838, total=  10.9s\n",
      "[CV] max_depth=3, min_child_weight=3 .................................\n",
      "[CV]  max_depth=3, min_child_weight=3, score=0.953270346883, total=  11.4s\n",
      "[CV] max_depth=3, min_child_weight=3 .................................\n",
      "[CV]  max_depth=3, min_child_weight=3, score=0.948511125801, total=  11.6s\n",
      "[CV] max_depth=3, min_child_weight=3 .................................\n",
      "[CV]  max_depth=3, min_child_weight=3, score=0.947427228521, total=  10.9s\n",
      "[CV] max_depth=3, min_child_weight=5 .................................\n",
      "[CV]  max_depth=3, min_child_weight=5, score=0.948799616872, total=  11.5s\n",
      "[CV] max_depth=3, min_child_weight=5 .................................\n",
      "[CV]  max_depth=3, min_child_weight=5, score=0.949046409437, total=  10.8s\n",
      "[CV] max_depth=3, min_child_weight=5 .................................\n",
      "[CV]  max_depth=3, min_child_weight=5, score=0.954221137902, total=  11.3s\n",
      "[CV] max_depth=3, min_child_weight=5 .................................\n",
      "[CV]  max_depth=3, min_child_weight=5, score=0.947377873885, total=  10.8s\n",
      "[CV] max_depth=3, min_child_weight=5 .................................\n",
      "[CV]  max_depth=3, min_child_weight=5, score=0.947126619011, total=  11.1s\n",
      "[CV] max_depth=5, min_child_weight=1 .................................\n",
      "[CV]  max_depth=5, min_child_weight=1, score=0.95538381397, total=  17.7s\n",
      "[CV] max_depth=5, min_child_weight=1 .................................\n",
      "[CV]  max_depth=5, min_child_weight=1, score=0.952547996001, total=  17.9s\n",
      "[CV] max_depth=5, min_child_weight=1 .................................\n",
      "[CV]  max_depth=5, min_child_weight=1, score=0.95703524851, total=  17.8s\n",
      "[CV] max_depth=5, min_child_weight=1 .................................\n",
      "[CV]  max_depth=5, min_child_weight=1, score=0.95499658271, total=  19.0s\n",
      "[CV] max_depth=5, min_child_weight=1 .................................\n",
      "[CV]  max_depth=5, min_child_weight=1, score=0.953318581096, total=  17.9s\n",
      "[CV] max_depth=5, min_child_weight=3 .................................\n",
      "[CV]  max_depth=5, min_child_weight=3, score=0.955697933966, total=  18.0s\n",
      "[CV] max_depth=5, min_child_weight=3 .................................\n",
      "[CV]  max_depth=5, min_child_weight=3, score=0.954069360697, total=  17.9s\n",
      "[CV] max_depth=5, min_child_weight=3 .................................\n",
      "[CV]  max_depth=5, min_child_weight=3, score=0.956220981042, total=  17.5s\n",
      "[CV] max_depth=5, min_child_weight=3 .................................\n",
      "[CV]  max_depth=5, min_child_weight=3, score=0.954655525927, total=  17.9s\n",
      "[CV] max_depth=5, min_child_weight=3 .................................\n",
      "[CV]  max_depth=5, min_child_weight=3, score=0.954018453368, total=  17.7s\n",
      "[CV] max_depth=5, min_child_weight=5 .................................\n",
      "[CV]  max_depth=5, min_child_weight=5, score=0.955509842856, total=  18.0s\n",
      "[CV] max_depth=5, min_child_weight=5 .................................\n",
      "[CV]  max_depth=5, min_child_weight=5, score=0.954123525112, total=  17.6s\n",
      "[CV] max_depth=5, min_child_weight=5 .................................\n",
      "[CV]  max_depth=5, min_child_weight=5, score=0.957440841662, total=  17.4s\n",
      "[CV] max_depth=5, min_child_weight=5 .................................\n",
      "[CV]  max_depth=5, min_child_weight=5, score=0.954826950657, total=  17.4s\n",
      "[CV] max_depth=5, min_child_weight=5 .................................\n",
      "[CV]  max_depth=5, min_child_weight=5, score=0.951999282929, total=  18.0s\n",
      "[CV] max_depth=7, min_child_weight=1 .................................\n",
      "[CV]  max_depth=7, min_child_weight=1, score=0.956339392989, total=  25.6s\n",
      "[CV] max_depth=7, min_child_weight=1 .................................\n",
      "[CV]  max_depth=7, min_child_weight=1, score=0.954396811749, total=  24.9s\n",
      "[CV] max_depth=7, min_child_weight=1 .................................\n",
      "[CV]  max_depth=7, min_child_weight=1, score=0.95442746381, total=  26.9s\n",
      "[CV] max_depth=7, min_child_weight=1 .................................\n",
      "[CV]  max_depth=7, min_child_weight=1, score=0.955791186752, total=  25.9s\n",
      "[CV] max_depth=7, min_child_weight=1 .................................\n",
      "[CV]  max_depth=7, min_child_weight=1, score=0.952278100211, total=  25.4s\n",
      "[CV] max_depth=7, min_child_weight=3 .................................\n",
      "[CV]  max_depth=7, min_child_weight=3, score=0.955888713693, total=  24.4s\n",
      "[CV] max_depth=7, min_child_weight=3 .................................\n",
      "[CV]  max_depth=7, min_child_weight=3, score=0.955135901149, total=  25.8s\n",
      "[CV] max_depth=7, min_child_weight=3 .................................\n",
      "[CV]  max_depth=7, min_child_weight=3, score=0.955551696321, total=  24.7s\n",
      "[CV] max_depth=7, min_child_weight=3 .................................\n",
      "[CV]  max_depth=7, min_child_weight=3, score=0.954406287814, total=  25.0s\n",
      "[CV] max_depth=7, min_child_weight=3 .................................\n",
      "[CV]  max_depth=7, min_child_weight=3, score=0.953240039439, total=  25.4s\n",
      "[CV] max_depth=7, min_child_weight=5 .................................\n",
      "[CV]  max_depth=7, min_child_weight=5, score=0.955510683049, total=  24.5s\n",
      "[CV] max_depth=7, min_child_weight=5 .................................\n",
      "[CV]  max_depth=7, min_child_weight=5, score=0.953908043724, total=  27.1s\n",
      "[CV] max_depth=7, min_child_weight=5 .................................\n",
      "[CV]  max_depth=7, min_child_weight=5, score=0.955849672836, total=  25.1s\n",
      "[CV] max_depth=7, min_child_weight=5 .................................\n",
      "[CV]  max_depth=7, min_child_weight=5, score=0.955570295344, total=  24.5s\n",
      "[CV] max_depth=7, min_child_weight=5 .................................\n",
      "[CV]  max_depth=7, min_child_weight=5, score=0.95364848967, total=  29.7s\n",
      "[CV] max_depth=9, min_child_weight=1 .................................\n",
      "[CV]  max_depth=9, min_child_weight=1, score=0.955037542605, total=  33.4s\n",
      "[CV] max_depth=9, min_child_weight=1 .................................\n",
      "[CV]  max_depth=9, min_child_weight=1, score=0.953112997499, total=  33.5s\n",
      "[CV] max_depth=9, min_child_weight=1 .................................\n",
      "[CV]  max_depth=9, min_child_weight=1, score=0.955897346838, total=  34.6s\n",
      "[CV] max_depth=9, min_child_weight=1 .................................\n",
      "[CV]  max_depth=9, min_child_weight=1, score=0.955196018016, total=  34.9s\n",
      "[CV] max_depth=9, min_child_weight=1 .................................\n",
      "[CV]  max_depth=9, min_child_weight=1, score=0.95433127549, total=  34.4s\n",
      "[CV] max_depth=9, min_child_weight=3 .................................\n",
      "[CV]  max_depth=9, min_child_weight=3, score=0.956662699091, total=  38.8s\n",
      "[CV] max_depth=9, min_child_weight=3 .................................\n",
      "[CV]  max_depth=9, min_child_weight=3, score=0.954086332587, total=  34.5s\n",
      "[CV] max_depth=9, min_child_weight=3 .................................\n",
      "[CV]  max_depth=9, min_child_weight=3, score=0.956372070094, total=  35.2s\n",
      "[CV] max_depth=9, min_child_weight=3 .................................\n",
      "[CV]  max_depth=9, min_child_weight=3, score=0.955873817954, total=  35.5s\n",
      "[CV] max_depth=9, min_child_weight=3 .................................\n",
      "[CV]  max_depth=9, min_child_weight=3, score=0.953475776453, total=  38.6s\n",
      "[CV] max_depth=9, min_child_weight=5 .................................\n",
      "[CV]  max_depth=9, min_child_weight=5, score=0.955266243023, total=  32.7s\n",
      "[CV] max_depth=9, min_child_weight=5 .................................\n",
      "[CV]  max_depth=9, min_child_weight=5, score=0.953830970058, total=  31.6s\n",
      "[CV] max_depth=9, min_child_weight=5 .................................\n",
      "[CV]  max_depth=9, min_child_weight=5, score=0.956854468247, total=  34.3s\n",
      "[CV] max_depth=9, min_child_weight=5 .................................\n",
      "[CV]  max_depth=9, min_child_weight=5, score=0.954087359387, total=  32.0s\n",
      "[CV] max_depth=9, min_child_weight=5 .................................\n",
      "[CV]  max_depth=9, min_child_weight=5, score=0.952606776319, total=  32.0s\n"
     ]
    },
    {
     "name": "stderr",
     "output_type": "stream",
     "text": [
      "[Parallel(n_jobs=1)]: Done  60 out of  60 | elapsed: 22.6min finished\n"
     ]
    },
    {
     "data": {
      "text/plain": [
       "GridSearchCV(cv=5, error_score='raise',\n",
       "       estimator=XGBClassifier(base_score=0.5, colsample_bylevel=1, colsample_bytree=0.8,\n",
       "       gamma=0, learning_rate=0.1, max_delta_step=0, max_depth=5,\n",
       "       min_child_weight=1, missing=None, n_estimators=337, nthread=4,\n",
       "       objective='binary:logistic', reg_alpha=0, reg_lambda=1,\n",
       "       scale_pos_weight=1, seed=27, silent=True, subsample=0.8),\n",
       "       fit_params=None, iid=False, n_jobs=1,\n",
       "       param_grid={'max_depth': [3, 5, 7, 9], 'min_child_weight': [1, 3, 5]},\n",
       "       pre_dispatch='2*n_jobs', refit=True, return_train_score='warn',\n",
       "       scoring='roc_auc', verbose=5)"
      ]
     },
     "execution_count": 16,
     "metadata": {},
     "output_type": "execute_result"
    }
   ],
   "source": [
    "# param_test1 = {\n",
    "#     'max_depth':range(3,10,2),\n",
    "#     'min_child_weight':range(1,6,2)\n",
    "# }\n",
    "predictors = [x for x in train_data.columns if x not in [target, IDcol]]\n",
    "param_test1 = {\n",
    "    'max_depth':range(3,10,2),\n",
    "    'min_child_weight':range(1,6,2)\n",
    "}\n",
    "gsearch1 = GridSearchCV(estimator = XGBClassifier( learning_rate =0.1, n_estimators=337, max_depth=5,\n",
    "                                        min_child_weight=1, gamma=0, subsample=0.8, colsample_bytree=0.8,\n",
    "                                        objective= 'binary:logistic', nthread=4, scale_pos_weight=1, seed=27), \n",
    "                       param_grid = param_test1, scoring='roc_auc',n_jobs=1,iid=False, cv=5, verbose=5)\n",
    "gsearch1.fit(train_data[predictors],train_data[target])"
   ]
  },
  {
   "cell_type": "code",
   "execution_count": 17,
   "metadata": {},
   "outputs": [
    {
     "name": "stderr",
     "output_type": "stream",
     "text": [
      "/usr/local/lib/python2.7/site-packages/sklearn/model_selection/_search.py:761: DeprecationWarning: The grid_scores_ attribute was deprecated in version 0.18 in favor of the more elaborate cv_results_ attribute. The grid_scores_ attribute will not be available from 0.20\n",
      "  DeprecationWarning)\n"
     ]
    },
    {
     "data": {
      "text/plain": [
       "([mean: 0.94912, std: 0.00268, params: {'max_depth': 3, 'min_child_weight': 1},\n",
       "  mean: 0.94950, std: 0.00199, params: {'max_depth': 3, 'min_child_weight': 3},\n",
       "  mean: 0.94931, std: 0.00257, params: {'max_depth': 3, 'min_child_weight': 5},\n",
       "  mean: 0.95466, std: 0.00158, params: {'max_depth': 5, 'min_child_weight': 1},\n",
       "  mean: 0.95493, std: 0.00088, params: {'max_depth': 5, 'min_child_weight': 3},\n",
       "  mean: 0.95478, std: 0.00178, params: {'max_depth': 5, 'min_child_weight': 5},\n",
       "  mean: 0.95465, std: 0.00141, params: {'max_depth': 7, 'min_child_weight': 1},\n",
       "  mean: 0.95484, std: 0.00094, params: {'max_depth': 7, 'min_child_weight': 3},\n",
       "  mean: 0.95490, std: 0.00092, params: {'max_depth': 7, 'min_child_weight': 5},\n",
       "  mean: 0.95472, std: 0.00094, params: {'max_depth': 9, 'min_child_weight': 1},\n",
       "  mean: 0.95529, std: 0.00128, params: {'max_depth': 9, 'min_child_weight': 3},\n",
       "  mean: 0.95453, std: 0.00144, params: {'max_depth': 9, 'min_child_weight': 5}],\n",
       " {'max_depth': 9, 'min_child_weight': 3},\n",
       " 0.95529413923571516)"
      ]
     },
     "execution_count": 17,
     "metadata": {},
     "output_type": "execute_result"
    }
   ],
   "source": [
    "gsearch1.grid_scores_, gsearch1.best_params_, gsearch1.best_score_"
   ]
  },
  {
   "cell_type": "code",
   "execution_count": 19,
   "metadata": {},
   "outputs": [
    {
     "name": "stdout",
     "output_type": "stream",
     "text": [
      "Fitting 5 folds for each of 5 candidates, totalling 25 fits\n",
      "[CV] gamma=0.0 .......................................................\n",
      "[CV] .................. gamma=0.0, score=0.956662699091, total=  31.0s\n",
      "[CV] gamma=0.0 .......................................................\n"
     ]
    },
    {
     "name": "stderr",
     "output_type": "stream",
     "text": [
      "[Parallel(n_jobs=1)]: Done   1 out of   1 | elapsed:   31.4s remaining:    0.0s\n"
     ]
    },
    {
     "name": "stdout",
     "output_type": "stream",
     "text": [
      "[CV] .................. gamma=0.0, score=0.954086332587, total=  31.0s\n",
      "[CV] gamma=0.0 .......................................................\n"
     ]
    },
    {
     "name": "stderr",
     "output_type": "stream",
     "text": [
      "[Parallel(n_jobs=1)]: Done   2 out of   2 | elapsed:  1.0min remaining:    0.0s\n"
     ]
    },
    {
     "name": "stdout",
     "output_type": "stream",
     "text": [
      "[CV] .................. gamma=0.0, score=0.956372070094, total=  31.6s\n",
      "[CV] gamma=0.0 .......................................................\n"
     ]
    },
    {
     "name": "stderr",
     "output_type": "stream",
     "text": [
      "[Parallel(n_jobs=1)]: Done   3 out of   3 | elapsed:  1.6min remaining:    0.0s\n"
     ]
    },
    {
     "name": "stdout",
     "output_type": "stream",
     "text": [
      "[CV] .................. gamma=0.0, score=0.955873817954, total=  32.7s\n",
      "[CV] gamma=0.0 .......................................................\n"
     ]
    },
    {
     "name": "stderr",
     "output_type": "stream",
     "text": [
      "[Parallel(n_jobs=1)]: Done   4 out of   4 | elapsed:  2.1min remaining:    0.0s\n"
     ]
    },
    {
     "name": "stdout",
     "output_type": "stream",
     "text": [
      "[CV] .................. gamma=0.0, score=0.953475776453, total=  34.4s\n",
      "[CV] gamma=0.1 .......................................................\n",
      "[CV] .................. gamma=0.1, score=0.954762183492, total=  36.1s\n",
      "[CV] gamma=0.1 .......................................................\n",
      "[CV] .................. gamma=0.1, score=0.953866538211, total=  33.5s\n",
      "[CV] gamma=0.1 .......................................................\n",
      "[CV] .................. gamma=0.1, score=0.955183637341, total=  31.6s\n",
      "[CV] gamma=0.1 .......................................................\n",
      "[CV] .................. gamma=0.1, score=0.954009546005, total=  31.7s\n",
      "[CV] gamma=0.1 .......................................................\n",
      "[CV] .................. gamma=0.1, score=0.951928304128, total=  32.3s\n",
      "[CV] gamma=0.2 .......................................................\n",
      "[CV] .................. gamma=0.2, score=0.955816009029, total=  32.2s\n",
      "[CV] gamma=0.2 .......................................................\n",
      "[CV] ................... gamma=0.2, score=0.95351819437, total=  32.5s\n",
      "[CV] gamma=0.2 .......................................................\n",
      "[CV] ................... gamma=0.2, score=0.95582603191, total=  32.1s\n",
      "[CV] gamma=0.2 .......................................................\n",
      "[CV] .................. gamma=0.2, score=0.956150898579, total=  32.7s\n",
      "[CV] gamma=0.2 .......................................................\n",
      "[CV] .................. gamma=0.2, score=0.953535438982, total=  32.1s\n",
      "[CV] gamma=0.3 .......................................................\n",
      "[CV] .................. gamma=0.3, score=0.955307748536, total=  32.0s\n",
      "[CV] gamma=0.3 .......................................................\n",
      "[CV] .................. gamma=0.3, score=0.954513990607, total=  33.1s\n",
      "[CV] gamma=0.3 .......................................................\n",
      "[CV] .................. gamma=0.3, score=0.957007013848, total=  32.8s\n",
      "[CV] gamma=0.3 .......................................................\n",
      "[CV] .................. gamma=0.3, score=0.955651077847, total=  32.1s\n",
      "[CV] gamma=0.3 .......................................................\n",
      "[CV] ................... gamma=0.3, score=0.95339891543, total=  32.0s\n",
      "[CV] gamma=0.4 .......................................................\n",
      "[CV] .................. gamma=0.4, score=0.956197008354, total=  31.9s\n",
      "[CV] gamma=0.4 .......................................................\n",
      "[CV] .................. gamma=0.4, score=0.954356202442, total=  31.7s\n",
      "[CV] gamma=0.4 .......................................................\n",
      "[CV] .................. gamma=0.4, score=0.956069779949, total=  32.7s\n",
      "[CV] gamma=0.4 .......................................................\n",
      "[CV] .................. gamma=0.4, score=0.954682696186, total=  32.6s\n",
      "[CV] gamma=0.4 .......................................................\n",
      "[CV] .................. gamma=0.4, score=0.952994946892, total=  37.6s\n"
     ]
    },
    {
     "name": "stderr",
     "output_type": "stream",
     "text": [
      "[Parallel(n_jobs=1)]: Done  25 out of  25 | elapsed: 13.8min finished\n"
     ]
    },
    {
     "data": {
      "text/plain": [
       "GridSearchCV(cv=5, error_score='raise',\n",
       "       estimator=XGBClassifier(base_score=0.5, colsample_bylevel=1, colsample_bytree=0.8,\n",
       "       gamma=0, learning_rate=0.1, max_delta_step=0, max_depth=9,\n",
       "       min_child_weight=3, missing=None, n_estimators=337, nthread=4,\n",
       "       objective='binary:logistic', reg_alpha=0, reg_lambda=1,\n",
       "       scale_pos_weight=1, seed=27, silent=True, subsample=0.8),\n",
       "       fit_params=None, iid=False, n_jobs=1,\n",
       "       param_grid={'gamma': [0.0, 0.1, 0.2, 0.3, 0.4]},\n",
       "       pre_dispatch='2*n_jobs', refit=True, return_train_score='warn',\n",
       "       scoring='roc_auc', verbose=5)"
      ]
     },
     "execution_count": 19,
     "metadata": {},
     "output_type": "execute_result"
    }
   ],
   "source": [
    "predictors = [x for x in train_data.columns if x not in [target, IDcol]]\n",
    "param_test1 = {\n",
    "    'gamma':[i/10.0 for i in range(0,5)]\n",
    "}\n",
    "gsearch1 = GridSearchCV(estimator = XGBClassifier( learning_rate =0.1, n_estimators=337, max_depth=9,\n",
    "                                        min_child_weight=3, gamma=0, subsample=0.8, colsample_bytree=0.8,\n",
    "                                        objective= 'binary:logistic', nthread=4, scale_pos_weight=1, seed=27), \n",
    "                       param_grid = param_test1, scoring='roc_auc',n_jobs=1,iid=False, cv=5, verbose=5)\n",
    "gsearch1.fit(train_data[predictors],train_data[target])"
   ]
  },
  {
   "cell_type": "code",
   "execution_count": 20,
   "metadata": {},
   "outputs": [
    {
     "name": "stderr",
     "output_type": "stream",
     "text": [
      "/usr/local/lib/python2.7/site-packages/sklearn/model_selection/_search.py:761: DeprecationWarning: The grid_scores_ attribute was deprecated in version 0.18 in favor of the more elaborate cv_results_ attribute. The grid_scores_ attribute will not be available from 0.20\n",
      "  DeprecationWarning)\n"
     ]
    },
    {
     "data": {
      "text/plain": [
       "([mean: 0.95529, std: 0.00128, params: {'gamma': 0.0},\n",
       "  mean: 0.95395, std: 0.00112, params: {'gamma': 0.1},\n",
       "  mean: 0.95497, std: 0.00118, params: {'gamma': 0.2},\n",
       "  mean: 0.95518, std: 0.00120, params: {'gamma': 0.3},\n",
       "  mean: 0.95486, std: 0.00118, params: {'gamma': 0.4}],\n",
       " {'gamma': 0.0},\n",
       " 0.95529413923571516)"
      ]
     },
     "execution_count": 20,
     "metadata": {},
     "output_type": "execute_result"
    }
   ],
   "source": [
    "gsearch1.grid_scores_, gsearch1.best_params_, gsearch1.best_score_"
   ]
  },
  {
   "cell_type": "code",
   "execution_count": 21,
   "metadata": {},
   "outputs": [
    {
     "name": "stdout",
     "output_type": "stream",
     "text": [
      "375\n",
      "\n",
      "Model Report\n",
      "Accuracy : 0.9636\n",
      "AUC Score (Train): 0.989475\n"
     ]
    },
    {
     "data": {
      "image/png": "[encoded data removed]",
      "text/plain": [
       "<matplotlib.figure.Figure at 0x114ba6b90>"
      ]
     },
     "metadata": {},
     "output_type": "display_data"
    }
   ],
   "source": [
    "predictors = [x for x in train_data.columns if x not in [target, IDcol]]\n",
    "xgb1 = XGBClassifier(\n",
    "        learning_rate =0.1,\n",
    "        n_estimators=375,\n",
    "        max_depth=5,\n",
    "        min_child_weight=1,\n",
    "        gamma=0,\n",
    "        subsample=0.8,\n",
    "        colsample_bytree=0.8,\n",
    "        objective= 'binary:logistic',\n",
    "        nthread=4,\n",
    "        scale_pos_weight=1,\n",
    "        seed=27)\n",
    "modelfit(xgb1, train_data, train_data, predictors, cv_folds=5)"
   ]
  },
  {
   "cell_type": "code",
   "execution_count": 22,
   "metadata": {},
   "outputs": [
    {
     "name": "stdout",
     "output_type": "stream",
     "text": [
      "170\n",
      "\n",
      "Model Report\n",
      "Accuracy : 0.9781\n",
      "AUC Score (Train): 0.996446\n"
     ]
    },
    {
     "data": {
      "image/png": "[encoded data removed]",
      "text/plain": [
       "<matplotlib.figure.Figure at 0x115bfcf50>"
      ]
     },
     "metadata": {},
     "output_type": "display_data"
    }
   ],
   "source": [
    "predictors = [x for x in train_data.columns if x not in [target, IDcol]]\n",
    "xgb1 = XGBClassifier(\n",
    "        learning_rate =0.1,\n",
    "        n_estimators=375,\n",
    "        max_depth=9,\n",
    "        min_child_weight=3,\n",
    "        gamma=0,\n",
    "        subsample=0.8,\n",
    "        colsample_bytree=0.8,\n",
    "        objective= 'binary:logistic',\n",
    "        nthread=4,\n",
    "        scale_pos_weight=1,\n",
    "        seed=27)\n",
    "modelfit(xgb1, train_data, train_data, predictors, cv_folds=5)"
   ]
  },
  {
   "cell_type": "code",
   "execution_count": 23,
   "metadata": {},
   "outputs": [
    {
     "name": "stdout",
     "output_type": "stream",
     "text": [
      "None\n"
     ]
    }
   ],
   "source": [
    "prob = xgb1.predict_proba(test_data[predictors])[:,1]\n",
    "submit = pd.read_csv(basedir + \"test/orderFuture_test.csv\")\n",
    "submit['orderType'] = prob\n",
    "print submit.to_csv(basedir + \"submit_c.csv\", index = False)"
   ]
  },
  {
   "cell_type": "code",
   "execution_count": null,
   "metadata": {},
   "outputs": [],
   "source": []
  }
 ],
 "metadata": {
  "kernelspec": {
   "display_name": "Python 2",
   "language": "python",
   "name": "python2"
  },
  "language_info": {
   "codemirror_mode": {
    "name": "ipython",
    "version": 2
   },
   "file_extension": ".py",
   "mimetype": "text/x-python",
   "name": "python",
   "nbconvert_exporter": "python",
   "pygments_lexer": "ipython2",
   "version": "2.7.11"
  }
 },
 "nbformat": 4,
 "nbformat_minor": 2
}
