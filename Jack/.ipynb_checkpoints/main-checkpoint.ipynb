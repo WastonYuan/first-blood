{
 "cells": [
  {
   "cell_type": "markdown",
   "metadata": {},
   "source": [
    "# Init Lib and Path"
   ]
  },
  {
   "cell_type": "code",
   "execution_count": 2,
   "metadata": {
    "collapsed": false
   },
   "outputs": [
    {
     "name": "stderr",
     "output_type": "stream",
     "text": [
      "/root/anaconda2/lib/python2.7/site-packages/sklearn/cross_validation.py:44: DeprecationWarning: This module was deprecated in version 0.18 in favor of the model_selection module into which all the refactored classes and functions are moved. Also note that the interface of the new CV iterators are different from that of this module. This module will be removed in 0.20.\n",
      "  \"This module will be removed in 0.20.\", DeprecationWarning)\n"
     ]
    }
   ],
   "source": [
    "#load library\n",
    "#coding:utf-8\n",
    "import numpy as np\n",
    "import pandas as pd\n",
    "import matplotlib.pylab as plt\n",
    "%matplotlib inline\n",
    "basedir = '../data/'\n",
    "#from matplotlib.pylab import rcParams\n",
    "#rcParams['figure.figsize'] = 12, 4\n",
    "plt.rcParams['font.sans-serif'] = ['SimHei']\n",
    "plt.rcParams['axes.unicode_minus']=False\n",
    "# Customizng plots with style sheets\n",
    "plt.style.use('ggplot')\n",
    "\n",
    "#load xgb\n",
    "import xgboost as xgb\n",
    "from xgboost.sklearn import XGBClassifier\n",
    "from sklearn import cross_validation, metrics\n",
    "from sklearn.model_selection import GridSearchCV\n",
    "from sklearn.model_selection import train_test_split"
   ]
  },
  {
   "cell_type": "markdown",
   "metadata": {},
   "source": [
    "# Create Feature"
   ]
  },
  {
   "cell_type": "code",
   "execution_count": 62,
   "metadata": {
    "collapsed": false
   },
   "outputs": [
    {
     "name": "stdout",
     "output_type": "stream",
     "text": [
      "<class 'pandas.core.groupby.SeriesGroupBy'>\n"
     ]
    },
    {
     "data": {
      "text/html": [
       "<div>\n",
       "<table border=\"1\" class=\"dataframe\">\n",
       "  <thead>\n",
       "    <tr style=\"text-align: right;\">\n",
       "      <th></th>\n",
       "      <th>userid</th>\n",
       "      <th>(rating, count)</th>\n",
       "      <th>(rating, sum)</th>\n",
       "      <th>(rating, mean)</th>\n",
       "      <th>(rating, std)</th>\n",
       "      <th>(rating, min)</th>\n",
       "      <th>(rating, max)</th>\n",
       "      <th>(rating, median)</th>\n",
       "      <th>(orderTime, sum)</th>\n",
       "      <th>(orderTime, mean)</th>\n",
       "      <th>...</th>\n",
       "      <th>(continent_gdp, std)</th>\n",
       "      <th>(continent_gdp, min)</th>\n",
       "      <th>(continent_gdp, max)</th>\n",
       "      <th>(continent_gdp, median)</th>\n",
       "      <th>(country_gdp, sum)</th>\n",
       "      <th>(country_gdp, mean)</th>\n",
       "      <th>(country_gdp, std)</th>\n",
       "      <th>(country_gdp, min)</th>\n",
       "      <th>(country_gdp, max)</th>\n",
       "      <th>(country_gdp, median)</th>\n",
       "    </tr>\n",
       "  </thead>\n",
       "  <tbody>\n",
       "    <tr>\n",
       "      <th>0</th>\n",
       "      <td>100000000371</td>\n",
       "      <td>0.0</td>\n",
       "      <td>NaN</td>\n",
       "      <td>NaN</td>\n",
       "      <td>NaN</td>\n",
       "      <td>NaN</td>\n",
       "      <td>NaN</td>\n",
       "      <td>NaN</td>\n",
       "      <td>1.503444e+09</td>\n",
       "      <td>1.503444e+09</td>\n",
       "      <td>...</td>\n",
       "      <td>NaN</td>\n",
       "      <td>0.646</td>\n",
       "      <td>0.646</td>\n",
       "      <td>0.646</td>\n",
       "      <td>38917.0</td>\n",
       "      <td>38917.000000</td>\n",
       "      <td>NaN</td>\n",
       "      <td>38917.0</td>\n",
       "      <td>38917.0</td>\n",
       "      <td>38917.0</td>\n",
       "    </tr>\n",
       "    <tr>\n",
       "      <th>1</th>\n",
       "      <td>100000001215</td>\n",
       "      <td>NaN</td>\n",
       "      <td>NaN</td>\n",
       "      <td>NaN</td>\n",
       "      <td>NaN</td>\n",
       "      <td>NaN</td>\n",
       "      <td>NaN</td>\n",
       "      <td>NaN</td>\n",
       "      <td>NaN</td>\n",
       "      <td>NaN</td>\n",
       "      <td>...</td>\n",
       "      <td>NaN</td>\n",
       "      <td>NaN</td>\n",
       "      <td>NaN</td>\n",
       "      <td>NaN</td>\n",
       "      <td>NaN</td>\n",
       "      <td>NaN</td>\n",
       "      <td>NaN</td>\n",
       "      <td>NaN</td>\n",
       "      <td>NaN</td>\n",
       "      <td>NaN</td>\n",
       "    </tr>\n",
       "    <tr>\n",
       "      <th>2</th>\n",
       "      <td>100000001445</td>\n",
       "      <td>1.0</td>\n",
       "      <td>5.0</td>\n",
       "      <td>5.0</td>\n",
       "      <td>NaN</td>\n",
       "      <td>5.0</td>\n",
       "      <td>5.0</td>\n",
       "      <td>5.0</td>\n",
       "      <td>7.405402e+09</td>\n",
       "      <td>1.481080e+09</td>\n",
       "      <td>...</td>\n",
       "      <td>1.820607</td>\n",
       "      <td>0.646</td>\n",
       "      <td>4.717</td>\n",
       "      <td>0.646</td>\n",
       "      <td>269280.0</td>\n",
       "      <td>53856.000000</td>\n",
       "      <td>2001.280840</td>\n",
       "      <td>52961.0</td>\n",
       "      <td>57436.0</td>\n",
       "      <td>52961.0</td>\n",
       "    </tr>\n",
       "    <tr>\n",
       "      <th>3</th>\n",
       "      <td>100000001575</td>\n",
       "      <td>0.0</td>\n",
       "      <td>NaN</td>\n",
       "      <td>NaN</td>\n",
       "      <td>NaN</td>\n",
       "      <td>NaN</td>\n",
       "      <td>NaN</td>\n",
       "      <td>NaN</td>\n",
       "      <td>4.467466e+09</td>\n",
       "      <td>1.489155e+09</td>\n",
       "      <td>...</td>\n",
       "      <td>0.000000</td>\n",
       "      <td>0.646</td>\n",
       "      <td>0.646</td>\n",
       "      <td>0.646</td>\n",
       "      <td>114161.0</td>\n",
       "      <td>38053.666667</td>\n",
       "      <td>747.668599</td>\n",
       "      <td>37622.0</td>\n",
       "      <td>38917.0</td>\n",
       "      <td>37622.0</td>\n",
       "    </tr>\n",
       "    <tr>\n",
       "      <th>4</th>\n",
       "      <td>100000001601</td>\n",
       "      <td>NaN</td>\n",
       "      <td>NaN</td>\n",
       "      <td>NaN</td>\n",
       "      <td>NaN</td>\n",
       "      <td>NaN</td>\n",
       "      <td>NaN</td>\n",
       "      <td>NaN</td>\n",
       "      <td>NaN</td>\n",
       "      <td>NaN</td>\n",
       "      <td>...</td>\n",
       "      <td>NaN</td>\n",
       "      <td>NaN</td>\n",
       "      <td>NaN</td>\n",
       "      <td>NaN</td>\n",
       "      <td>NaN</td>\n",
       "      <td>NaN</td>\n",
       "      <td>NaN</td>\n",
       "      <td>NaN</td>\n",
       "      <td>NaN</td>\n",
       "      <td>NaN</td>\n",
       "    </tr>\n",
       "  </tbody>\n",
       "</table>\n",
       "<p>5 rows × 33 columns</p>\n",
       "</div>"
      ],
      "text/plain": [
       "         userid  (rating, count)  (rating, sum)  (rating, mean)  \\\n",
       "0  100000000371              0.0            NaN             NaN   \n",
       "1  100000001215              NaN            NaN             NaN   \n",
       "2  100000001445              1.0            5.0             5.0   \n",
       "3  100000001575              0.0            NaN             NaN   \n",
       "4  100000001601              NaN            NaN             NaN   \n",
       "\n",
       "   (rating, std)  (rating, min)  (rating, max)  (rating, median)  \\\n",
       "0            NaN            NaN            NaN               NaN   \n",
       "1            NaN            NaN            NaN               NaN   \n",
       "2            NaN            5.0            5.0               5.0   \n",
       "3            NaN            NaN            NaN               NaN   \n",
       "4            NaN            NaN            NaN               NaN   \n",
       "\n",
       "   (orderTime, sum)  (orderTime, mean)          ...            \\\n",
       "0      1.503444e+09       1.503444e+09          ...             \n",
       "1               NaN                NaN          ...             \n",
       "2      7.405402e+09       1.481080e+09          ...             \n",
       "3      4.467466e+09       1.489155e+09          ...             \n",
       "4               NaN                NaN          ...             \n",
       "\n",
       "   (continent_gdp, std)  (continent_gdp, min)  (continent_gdp, max)  \\\n",
       "0                   NaN                 0.646                 0.646   \n",
       "1                   NaN                   NaN                   NaN   \n",
       "2              1.820607                 0.646                 4.717   \n",
       "3              0.000000                 0.646                 0.646   \n",
       "4                   NaN                   NaN                   NaN   \n",
       "\n",
       "   (continent_gdp, median)  (country_gdp, sum)  (country_gdp, mean)  \\\n",
       "0                    0.646             38917.0         38917.000000   \n",
       "1                      NaN                 NaN                  NaN   \n",
       "2                    0.646            269280.0         53856.000000   \n",
       "3                    0.646            114161.0         38053.666667   \n",
       "4                      NaN                 NaN                  NaN   \n",
       "\n",
       "   (country_gdp, std)  (country_gdp, min)  (country_gdp, max)  \\\n",
       "0                 NaN             38917.0             38917.0   \n",
       "1                 NaN                 NaN                 NaN   \n",
       "2         2001.280840             52961.0             57436.0   \n",
       "3          747.668599             37622.0             38917.0   \n",
       "4                 NaN                 NaN                 NaN   \n",
       "\n",
       "   (country_gdp, median)  \n",
       "0                38917.0  \n",
       "1                    NaN  \n",
       "2                52961.0  \n",
       "3                37622.0  \n",
       "4                    NaN  \n",
       "\n",
       "[5 rows x 33 columns]"
      ]
     },
     "execution_count": 62,
     "metadata": {},
     "output_type": "execute_result"
    }
   ],
   "source": [
    "def createOrderHistoryFeature(dataset):\n",
    "    continent_gdp = pd.read_csv(basedir + \"continent.csv\")\n",
    "    orderHistory = pd.read_csv(basedir + \"orderHistory_\" + dataset + \".csv\")\n",
    "    userComment = pd.read_csv(basedir + \"userComment_\" + dataset + \".csv\")\n",
    "    country_gdp = pd.read_csv(basedir + 'country_gdp.tsv', delimiter='\\t')\n",
    "    orderFuture = pd.read_csv(basedir + \"orderFuture_\" + dataset + \".csv\")\n",
    "    userOrderHistoryComment = pd.merge(orderHistory, userComment, on=[\"userid\", \"orderid\"], how='left')\n",
    "    userOrderHistoryComment = pd.merge(userOrderHistoryComment, continent_gdp, on=[\"continent\",], how='left')\n",
    "    userOrderHistoryComment = pd.merge(userOrderHistoryComment, country_gdp, on=[\"country\",], how='left')\n",
    "\n",
    "    userOrderHistoryComment.drop('commentsKeyWords', axis=1, inplace=True)\n",
    "    userOrderHistoryComment.drop('orderid', axis=1, inplace=True)\n",
    "    \n",
    "    userOrderHistoryComment_group = userOrderHistoryComment.groupby('userid')\n",
    "    \n",
    "    print type(userOrderHistoryComment_group['rating'])\n",
    "    \n",
    "    orderDf = pd.DataFrame(orderFuture['userid'], columns = ['userid'])\n",
    "    \n",
    "    orderDf =  orderDf.join(userOrderHistoryComment_group.agg({'rating':\\\n",
    "                    ['count', 'sum', 'mean', 'std','min','max', 'median']}), on='userid')\n",
    "\n",
    "    orderDf =  orderDf.join(userOrderHistoryComment_group.agg({'orderTime':\\\n",
    "                    ['sum', 'mean', 'std','min','max','median']}), on='userid')\n",
    "\n",
    "    orderDf = orderDf.join(userOrderHistoryComment_group.agg({'orderType':\\\n",
    "                    ['count', 'sum', 'mean', 'std','min','max','median']}), on='userid')\n",
    "    \n",
    "    orderDf = orderDf.join(userOrderHistoryComment_group.agg({'continent_gdp':\\\n",
    "                    ['sum', 'mean', 'std','min','max','median']}), on='userid')\n",
    "    \n",
    "    orderDf = orderDf.join(userOrderHistoryComment_group.agg({'country_gdp':\\\n",
    "                    ['sum', 'mean', 'std','min','max','median']}), on='userid')\n",
    "    \n",
    "    #     order_month = pd.read_csv(basedir + \"order_month_\" + dataset + \".csv\")\n",
    "#     orderDf = pd.merge(orderDf, order_month, on=[\"userid\"], how='left')\n",
    "    return orderDf\n",
    "\n",
    "createOrderHistoryFeature(\"test\").head(5)"
   ]
  },
  {
   "cell_type": "code",
   "execution_count": null,
   "metadata": {
    "collapsed": true
   },
   "outputs": [],
   "source": []
  },
  {
   "cell_type": "code",
   "execution_count": 63,
   "metadata": {
    "collapsed": false
   },
   "outputs": [
    {
     "data": {
      "text/html": [
       "<div>\n",
       "<table border=\"1\" class=\"dataframe\">\n",
       "  <thead>\n",
       "    <tr style=\"text-align: right;\">\n",
       "      <th></th>\n",
       "      <th>userid</th>\n",
       "      <th>capita_gdp</th>\n",
       "      <th>age_00后</th>\n",
       "      <th>age_60后</th>\n",
       "      <th>age_70后</th>\n",
       "      <th>age_80后</th>\n",
       "      <th>age_90后</th>\n",
       "      <th>age_nan</th>\n",
       "      <th>gender_女</th>\n",
       "      <th>gender_男</th>\n",
       "      <th>gender_nan</th>\n",
       "    </tr>\n",
       "  </thead>\n",
       "  <tbody>\n",
       "    <tr>\n",
       "      <th>0</th>\n",
       "      <td>100000000013</td>\n",
       "      <td>NaN</td>\n",
       "      <td>0</td>\n",
       "      <td>1</td>\n",
       "      <td>0</td>\n",
       "      <td>0</td>\n",
       "      <td>0</td>\n",
       "      <td>0</td>\n",
       "      <td>0</td>\n",
       "      <td>1</td>\n",
       "      <td>0</td>\n",
       "    </tr>\n",
       "    <tr>\n",
       "      <th>1</th>\n",
       "      <td>100000000111</td>\n",
       "      <td>12.2</td>\n",
       "      <td>0</td>\n",
       "      <td>0</td>\n",
       "      <td>0</td>\n",
       "      <td>0</td>\n",
       "      <td>0</td>\n",
       "      <td>1</td>\n",
       "      <td>0</td>\n",
       "      <td>0</td>\n",
       "      <td>1</td>\n",
       "    </tr>\n",
       "    <tr>\n",
       "      <th>2</th>\n",
       "      <td>100000000127</td>\n",
       "      <td>12.2</td>\n",
       "      <td>0</td>\n",
       "      <td>0</td>\n",
       "      <td>0</td>\n",
       "      <td>0</td>\n",
       "      <td>0</td>\n",
       "      <td>1</td>\n",
       "      <td>0</td>\n",
       "      <td>0</td>\n",
       "      <td>1</td>\n",
       "    </tr>\n",
       "  </tbody>\n",
       "</table>\n",
       "</div>"
      ],
      "text/plain": [
       "         userid  capita_gdp  age_00后  age_60后  age_70后  age_80后  age_90后  \\\n",
       "0  100000000013         NaN        0        1        0        0        0   \n",
       "1  100000000111        12.2        0        0        0        0        0   \n",
       "2  100000000127        12.2        0        0        0        0        0   \n",
       "\n",
       "   age_nan  gender_女  gender_男  gender_nan  \n",
       "0        0         0         1           0  \n",
       "1        1         0         0           1  \n",
       "2        1         0         0           1  "
      ]
     },
     "execution_count": 63,
     "metadata": {},
     "output_type": "execute_result"
    }
   ],
   "source": [
    "def createUserProfileFeature(dataset):\n",
    "    province_gdp = pd.read_csv(basedir + 'province_gdp.csv')[['province', 'capita_gdp']]\n",
    "    userProfile = pd.read_csv(basedir + \"userProfile_\" + dataset + \".csv\")\n",
    "    \n",
    "    userProfile_deal = pd.merge(userProfile, province_gdp, on=['province'], how='left')\n",
    "    userProfile_deal = pd.merge(userProfile, province_gdp, on=['province'], how='left')\n",
    "    \n",
    "    userProfile_deal.drop('province', axis=1, inplace=True)\n",
    "    \n",
    "    userProfile_deal = pd.get_dummies(userProfile_deal, columns=['age'], dummy_na=True)\n",
    "    userProfile_deal = pd.get_dummies(userProfile_deal, columns=['gender'], dummy_na=True)\n",
    "\n",
    "    return userProfile_deal\n",
    "createUserProfileFeature(\"train\").head(3)"
   ]
  },
  {
   "cell_type": "code",
   "execution_count": 64,
   "metadata": {
    "collapsed": false
   },
   "outputs": [
    {
     "data": {
      "text/html": [
       "<div>\n",
       "<table border=\"1\" class=\"dataframe\">\n",
       "  <thead>\n",
       "    <tr style=\"text-align: right;\">\n",
       "      <th></th>\n",
       "      <th>userid</th>\n",
       "      <th>(actionTime, sum)</th>\n",
       "      <th>(actionTime, mean)</th>\n",
       "      <th>(actionTime, std)</th>\n",
       "    </tr>\n",
       "  </thead>\n",
       "  <tbody>\n",
       "    <tr>\n",
       "      <th>0</th>\n",
       "      <td>100000000013</td>\n",
       "      <td>212773237028</td>\n",
       "      <td>1487924734</td>\n",
       "      <td>8.187104e+06</td>\n",
       "    </tr>\n",
       "    <tr>\n",
       "      <th>1</th>\n",
       "      <td>100000000111</td>\n",
       "      <td>4472914358</td>\n",
       "      <td>1490971452</td>\n",
       "      <td>2.371357e+01</td>\n",
       "    </tr>\n",
       "    <tr>\n",
       "      <th>2</th>\n",
       "      <td>100000000127</td>\n",
       "      <td>8955318302</td>\n",
       "      <td>1492553050</td>\n",
       "      <td>2.994918e+06</td>\n",
       "    </tr>\n",
       "  </tbody>\n",
       "</table>\n",
       "</div>"
      ],
      "text/plain": [
       "         userid  (actionTime, sum)  (actionTime, mean)  (actionTime, std)\n",
       "0  100000000013       212773237028          1487924734       8.187104e+06\n",
       "1  100000000111         4472914358          1490971452       2.371357e+01\n",
       "2  100000000127         8955318302          1492553050       2.994918e+06"
      ]
     },
     "execution_count": 64,
     "metadata": {},
     "output_type": "execute_result"
    }
   ],
   "source": [
    "def createActionTimeFeature(dataset):\n",
    "    action_dataset = pd.read_csv(basedir + \"action_\" + dataset + \".csv\")\n",
    "    orderFuture = pd.read_csv(basedir + \"orderFuture_\" + dataset + \".csv\")[['userid']]\n",
    "\n",
    "    action_group = action_dataset.groupby('userid')\n",
    "    action_time_df =  action_group.agg({'actionTime':['sum', 'mean', 'std']})\n",
    "    \n",
    "    return orderFuture.join(action_time_df, on='userid')\n",
    "    \n",
    "createActionTimeFeature('train').head(3)"
   ]
  },
  {
   "cell_type": "code",
   "execution_count": 65,
   "metadata": {
    "collapsed": false
   },
   "outputs": [
    {
     "name": "stdout",
     "output_type": "stream",
     "text": [
      "<class 'pandas.core.groupby.SeriesGroupBy'>\n",
      "Index([u'userid', u'month1', u'month2', u'month3', u'month4', u'month5',\n",
      "       u'month6', u'month7', u'month8', u'month9', u'month10', u'month11',\n",
      "       u'month12', u'actionType1Count', u'actionType1Rate',\n",
      "       u'actionType24Count', u'actionType24Rate', u'actionType5Count',\n",
      "       u'actionType5Rate', u'actionType6Count', u'actionType6Rate',\n",
      "       u'actionType7Count', u'actionType7Rate', u'actionType8Count',\n",
      "       u'actionType8Rate', u'actionType9Count', u'actionType9Rate'],\n",
      "      dtype='object')\n",
      "<class 'pandas.core.groupby.SeriesGroupBy'>\n",
      "Index([u'userid', u'month1', u'month2', u'month3', u'month4', u'month5',\n",
      "       u'month6', u'month7', u'month8', u'month9', u'month10', u'month11',\n",
      "       u'month12', u'actionType1Count', u'actionType1Rate',\n",
      "       u'actionType24Count', u'actionType24Rate', u'actionType5Count',\n",
      "       u'actionType5Rate', u'actionType6Count', u'actionType6Rate',\n",
      "       u'actionType7Count', u'actionType7Rate', u'actionType8Count',\n",
      "       u'actionType8Rate', u'actionType9Count', u'actionType9Rate'],\n",
      "      dtype='object')\n"
     ]
    }
   ],
   "source": [
    "def createTotalFeatures(dataset):\n",
    "\n",
    "    action_type_rate = pd.read_csv(basedir + \"action_rate_\" + dataset + \".csv\")\n",
    "    user_month_action = pd.read_csv(basedir + \"user_month_\" + dataset + \".csv\")\n",
    "    action_interval_train = pd.read_csv(basedir + \"action_interval_\"+ dataset + \".csv\")\n",
    "    tag_score = pd.read_csv(basedir + \"user_tagScore_\" + dataset + \".csv\")\n",
    "    \n",
    "    orderDf = createOrderHistoryFeature(dataset)\n",
    "    #actionDf = createActionTimeFeature(dataset)\n",
    "    userProfile_deal = createUserProfileFeature(dataset)\n",
    "    \n",
    "    action_result = pd.merge(user_month_action, action_type_rate, on=[\"userid\"], how='left')\n",
    "    print action_result.columns\n",
    "    train_data = pd.merge(orderDf, action_result, on=['userid'], how='left')\n",
    "    # train_data = pd.merge(train_data, actionDf, on=['userid'], how='left')\n",
    "#     train_data = pd.merge(userProfile_deal, train_data, on = ['userid'], how = 'left')\n",
    "    if dataset == 'train':\n",
    "        orderFuture_train = pd.read_csv(basedir + \"trainingset/orderFuture_train.csv\")\n",
    "        train_data = pd.merge(orderFuture_train, train_data, on=['userid'], how='left')\n",
    "        train_data.rename(columns={'orderType': 'label'}, inplace=True)\n",
    "\n",
    "    \n",
    "    train_data = pd.merge(train_data, action_interval_train, on=['userid'], how='left')\n",
    "    \n",
    "    \n",
    "    train_data = pd.merge(train_data, tag_score, on=['userid'], how='left')\n",
    "    \n",
    "    return train_data\n",
    "\n",
    "createTotalFeatures('test').to_csv(basedir + 'test_data.csv', index = False)\n",
    "createTotalFeatures('train').to_csv(basedir + 'train_data.csv', index = False)"
   ]
  },
  {
   "cell_type": "markdown",
   "metadata": {},
   "source": [
    "# Model"
   ]
  },
  {
   "cell_type": "markdown",
   "metadata": {},
   "source": [
    "## xgb1"
   ]
  },
  {
   "cell_type": "code",
   "execution_count": 3,
   "metadata": {
    "collapsed": false
   },
   "outputs": [
    {
     "data": {
      "text/plain": [
       "XGBClassifier(base_score=0.5, booster='gbtree', colsample_bylevel=1,\n",
       "       colsample_bytree=0.8, gamma=0, learning_rate=0.1, max_delta_step=0,\n",
       "       max_depth=5, min_child_weight=1, missing=None, n_estimators=465,\n",
       "       n_jobs=1, nthread=3, objective='binary:logistic', random_state=0,\n",
       "       reg_alpha=0, reg_lambda=1, scale_pos_weight=1, seed=27, silent=True,\n",
       "       subsample=0.8)"
      ]
     },
     "execution_count": 3,
     "metadata": {},
     "output_type": "execute_result"
    }
   ],
   "source": [
    "##train\n",
    "target= 'label'\n",
    "IDcol = 'userid'\n",
    "\n",
    "train_data = pd.read_csv(basedir + 'train_data.csv')\n",
    "test_data = pd.read_csv(basedir + 'test_data.csv')\n",
    "Feature = [x for x in train_data.columns if x not in ['label', 'userid']]\n",
    "\n",
    "xgb1 = XGBClassifier(\n",
    "        learning_rate=0.1,\n",
    "        n_estimators=465, #有几颗树(round) 可用用cv结果值代替\n",
    "        max_depth=5, # 树的最大深度\n",
    "        min_child_weight=1, # 决定最小叶子节点样本权重和\n",
    "        # 在节点分裂时，只有分裂后损失函数的值下降了，才会分裂这个节点，Gamma指定了节点分裂所需的最小损失函数下降值\n",
    "        # 值越大，算法越保守\n",
    "        gamma=0, \n",
    "        subsample=0.8, # 控制对于每颗树，随机采样的比例，0.8适合本题目\n",
    "        colsample_bytree=0.8, # 控制每棵树随机采样的列数的占比\n",
    "        objective= 'binary:logistic',\n",
    "        # nthread=4, XGBoost运行时的线程数，缺省值是当前系统可以获得的最大线程数\n",
    "        scale_pos_weight=1, # 在各类样本十分不平衡时，把这个参数设定为一个正值，可以使算法更快收敛\n",
    "        seed=27, # 随机数的种子，设置它可以复现随机数据的结果，也可以用于调整参数\n",
    "        nthread=3\n",
    "        )\n",
    "\n",
    "train_data = pd.read_csv(basedir + 'train_data.csv')\n",
    "# test_data = pd.read_csv(basedir + 'test_data.csv')\n",
    "Feature = [x for x in train_data.columns if x not in ['label', 'userid']]\n",
    "train_data_sample = train_data.sample(frac=1.0)  # 全部打乱\n",
    "cut_idx = int(round(0.2 * train_data.shape[0]))\n",
    "train_test, train_train = train_data.iloc[:cut_idx], train_data.iloc[cut_idx:]\n",
    "# print train_data.shape, train_test.shape, train_train.shape  # (40307, 126) (8061, 126) (32246, 126)\n",
    "\n",
    "cv_folds=5\n",
    "early_stopping_rounds=50\n",
    "\n",
    "#  指定训练数据集和标签\n",
    "xgtrain = xgb.DMatrix(train_train[Feature].values, label=train_train[target].values)\n",
    "# 指定测试数据集\n",
    "xgtest = xgb.DMatrix(train_test[Feature].values)\n",
    "\n",
    "# cvresult = xgb.cv(xgb_param, xgtrain, num_boost_round=xgb1.get_params()['n_estimators'], nfold=cv_folds,\n",
    "#             metrics='auc', early_stopping_rounds=early_stopping_rounds)\n",
    "# print cvresult.shape[0]\n",
    "# xgb1.set_params(n_estimators=cvresult.shape[0])\n",
    "\n",
    "xgb1.fit(train_train[Feature], train_train['label'], eval_metric='auc')\n"
   ]
  },
  {
   "cell_type": "code",
   "execution_count": 4,
   "metadata": {
    "collapsed": false
   },
   "outputs": [
    {
     "name": "stdout",
     "output_type": "stream",
     "text": [
      "\n",
      "Model Report\n",
      "Accuracy : 0.931\n",
      "AUC Score (Train): 0.954838\n"
     ]
    },
    {
     "data": {
      "text/plain": [
       "lastInteval2                   435\n",
       "action5min                     379\n",
       "lastInteval1                   379\n",
       "actionType6Rate                350\n",
       "lastInteval3                   349\n",
       "lastInteval4                   346\n",
       "action1DistanceTime            314\n",
       "actionType5Rate                296\n",
       "intevalMean                    291\n",
       "firstInteval                   278\n",
       "last3IntevalStd                256\n",
       "type1IntervalMin               249\n",
       "intevalStd                     234\n",
       "action5mean                    233\n",
       "intevalMin                     215\n",
       "actionType1Rate                210\n",
       "last3IntevalMean               202\n",
       "action6min                     200\n",
       "actionType6Count               169\n",
       "action5DistanceTime            168\n",
       "type1IntervalMean              165\n",
       "last1Action                    155\n",
       "type1IntervalMax               149\n",
       "action5std                     146\n",
       "action5max                     141\n",
       "tagScore                       137\n",
       "type1IntervalStd               135\n",
       "month4                         128\n",
       "actionType7Rate                122\n",
       "actionType5Count               121\n",
       "                              ... \n",
       "action4max                      22\n",
       "('orderType', 'mean')           21\n",
       "action9Distance                 21\n",
       "action7max                      20\n",
       "action3DistanceTime             20\n",
       "action3std                      20\n",
       "type9IntervalMin                18\n",
       "action7DistanceTime             18\n",
       "action4std                      17\n",
       "action4Distance                 14\n",
       "('rating', 'sum')               14\n",
       "type9IntervalMean               14\n",
       "action9max                      12\n",
       "action9DistanceTime             12\n",
       "type9IntervalStd                11\n",
       "('rating', 'count')             11\n",
       "action3max                      11\n",
       "action7Distance                 11\n",
       "type9IntervalMax                11\n",
       "('continent_gdp', 'mean')        8\n",
       "actionType8Count                 7\n",
       "('continent_gdp', 'median')      7\n",
       "('country_gdp', 'std')           5\n",
       "actionType9Count                 5\n",
       "('continent_gdp', 'max')         5\n",
       "('rating', 'mean')               3\n",
       "('orderType', 'max')             2\n",
       "('orderType', 'count')           1\n",
       "('orderType', 'std')             1\n",
       "('continent_gdp', 'min')         1\n",
       "dtype: int64"
      ]
     },
     "execution_count": 4,
     "metadata": {},
     "output_type": "execute_result"
    },
    {
     "name": "stderr",
     "output_type": "stream",
     "text": [
      "/root/anaconda2/lib/python2.7/site-packages/matplotlib/font_manager.py:1297: UserWarning: findfont: Font family [u'sans-serif'] not found. Falling back to DejaVu Sans\n",
      "  (prop.get_family(), self.defaultFamily[fontext]))\n"
     ]
    },
    {
     "data": {
      "image/png": "[encoded data removed]",
      "text/plain": [
       "<matplotlib.figure.Figure at 0x7f38c82f5e50>"
      ]
     },
     "metadata": {},
     "output_type": "display_data"
    }
   ],
   "source": [
    "## eval\n",
    "train_test_predictions = xgb1.predict(train_test[Feature])\n",
    "train_test_predprob = xgb1.predict_proba(train_test[Feature])[:,1]\n",
    "    #Print model report:\n",
    "print \"\\nModel Report\"\n",
    "print \"Accuracy : %.4g\" % metrics.accuracy_score(train_test['label'].values, train_test_predictions)\n",
    "print \"AUC Score (Train): %f\" % metrics.roc_auc_score(train_test['label'], train_test_predprob)\n",
    "\n",
    "feat_imp = pd.Series(xgb1.get_booster().get_score()).sort_values(ascending=False)\n",
    "\n",
    "feat_imp.plot(kind='bar', title='Feature Importances', figsize=(16, 5))\n",
    "plt.ylabel('Feature Importance Score')\n",
    "feat_imp"
   ]
  },
  {
   "cell_type": "markdown",
   "metadata": {},
   "source": [
    "## connect lr"
   ]
  },
  {
   "cell_type": "code",
   "execution_count": 68,
   "metadata": {
    "collapsed": false
   },
   "outputs": [
    {
     "name": "stdout",
     "output_type": "stream",
     "text": [
      "465\n"
     ]
    },
    {
     "name": "stderr",
     "output_type": "stream",
     "text": [
      "/root/anaconda2/lib/python2.7/site-packages/ipykernel/__main__.py:12: SettingWithCopyWarning: \n",
      "A value is trying to be set on a copy of a slice from a DataFrame.\n",
      "Try using .loc[row_indexer,col_indexer] = value instead\n",
      "\n",
      "See the caveats in the documentation: http://pandas.pydata.org/pandas-docs/stable/indexing.html#indexing-view-versus-copy\n"
     ]
    },
    {
     "data": {
      "text/plain": [
       "LogisticRegression(C=0.005, class_weight=None, dual=False, fit_intercept=True,\n",
       "          intercept_scaling=0.01, max_iter=1000, multi_class='ovr',\n",
       "          n_jobs=-1, penalty='l2', random_state=1, solver='liblinear',\n",
       "          tol=0.0001, verbose=0, warm_start=False)"
      ]
     },
     "execution_count": 68,
     "metadata": {},
     "output_type": "execute_result"
    }
   ],
   "source": [
    "# train\n",
    "# print xgb1.get_booster().get_dump()[0]\n",
    "X_train_leaves = xgb1.apply(train_data[Feature])\n",
    "X_test_leaves = xgb1.apply(test_data[Feature])\n",
    "\n",
    "Totall_leaves = pd.DataFrame(np.concatenate((X_train_leaves, X_test_leaves), axis=0).astype(np.int32))\n",
    "\n",
    "print Totall_leaves.shape[1]\n",
    "totall_leaves_feature = pd.get_dummies(Totall_leaves, columns=list(range(Totall_leaves.shape[1]))\\\n",
    "                                  , dummy_na=False)\n",
    "totall_leaves_feature.shape\n",
    "train_leave_feature = totall_leaves_feature.head(X_train_leaves.shape[0])\n",
    "train_leave_feature['label'] = train_data['label']\n",
    "train_leave_feature\n",
    "from sklearn.linear_model import LogisticRegression\n",
    "\n",
    "cut_idx = int(round(0.2 * train_data.shape[0]))\n",
    "train_test, train_train = train_leave_feature.iloc[:cut_idx], train_leave_feature.iloc[cut_idx:]\n",
    "\n",
    "#best tol 0.0001 c 0.005 scal 0.01 max_iter 1000\n",
    "classifier = LogisticRegression(penalty='l2', \\\n",
    "                                dual=False, tol=0.0001, C=0.005, fit_intercept=True, \\\n",
    "                                intercept_scaling=0.01, class_weight=None, \\\n",
    "                                random_state=1, solver='liblinear', max_iter=1000,\\\n",
    "                                multi_class='ovr', \\\n",
    "                                verbose=0, warm_start=False, n_jobs=-1)  # 使用类，参数全是默认的  \n",
    "\n",
    "feat_name_list = [i for i in train_train.columns if i not in ['label']]\n",
    "# print train_train[feat_name_list]\n",
    "classifier.fit(train_train[feat_name_list], train_train['label'])  # 训练数据来学习，不需要返回值  \n",
    "\n",
    " \n",
    "\n"
   ]
  },
  {
   "cell_type": "code",
   "execution_count": 69,
   "metadata": {
    "collapsed": false
   },
   "outputs": [
    {
     "name": "stdout",
     "output_type": "stream",
     "text": [
      "[ 0.02618507  0.70365019  0.02099741 ...,  0.00088056  0.00274895\n",
      "  0.01467048]\n",
      "[0 1 0 ..., 0 0 0]\n",
      "\n",
      "Lr Report\n",
      "Accuracy : 0.931\n",
      "AUC Score (Train): 0.954548\n"
     ]
    }
   ],
   "source": [
    "# eval\n",
    "train_test_predictions = classifier.predict(train_test[feat_name_list])\n",
    "train_test_predprob = classifier.predict_proba(train_test[feat_name_list])[:,1]  # 测试数据，分类返回标记 \n",
    "\n",
    "print train_test_predprob\n",
    "print train_test_predictions\n",
    "\n",
    "print \"\\nLr Report\"\n",
    "print \"Accuracy : %.4g\" % metrics.accuracy_score(train_test['label'].values, train_test_predictions)\n",
    "print \"AUC Score (Train): %f\" % metrics.roc_auc_score(train_test['label'].values, train_test_predprob)\n"
   ]
  },
  {
   "cell_type": "markdown",
   "metadata": {
    "collapsed": false
   },
   "source": [
    "## connect ffm"
   ]
  },
  {
   "cell_type": "code",
   "execution_count": 9,
   "metadata": {
    "collapsed": false
   },
   "outputs": [],
   "source": [
    "#make ffm data\n",
    "train_leaves = pd.DataFrame(xgb1.apply(train_data[Feature]))\n",
    "\n",
    "ffm_train = train_leaves.apply(lambda row:row.map(lambda ele: \\\n",
    "                    str(row.name) + ':' + str(ele) + ':1'))\n",
    "\n",
    "ffm_train_data = pd.concat([train_data['label'], ffm_train], axis=1, join_axes=[ffm_train.index])\n",
    "\n",
    "cut_idx = int(round(0.2 * train_data.shape[0]))\n",
    "ffm_train_test, ffm_train_train = ffm_train_data.iloc[:cut_idx], ffm_train_data.iloc[cut_idx:]\n",
    "\n",
    "ffm_train_train.to_csv(path_or_buf='../data/ffm_train_train.data',header=False, index=False, sep=' ')\n",
    "\n",
    "\n",
    "\n",
    "# X_test_leaves = xgb1.apply(test_data[Feature])\n",
    "\n",
    "# Totall_leaves = pd.DataFrame(np.concatenate((X_train_leaves, X_test_leaves), axis=0).astype(np.int32))\n",
    "\n",
    "# print Totall_leaves.shape[1]\n",
    "# totall_leaves_feature = pd.get_dummies(Totall_leaves, columns=list(range(Totall_leaves.shape[1]))\\\n",
    "#                                   , dummy_na=False)\n",
    "# totall_leaves_feature.shape\n"
   ]
  },
  {
   "cell_type": "code",
   "execution_count": null,
   "metadata": {
    "collapsed": false
   },
   "outputs": [],
   "source": [
    "#submit\n",
    "\n",
    "prob = xgb1.predict_proba(test_data[Feature])[:,1]\n",
    "submit = pd.read_csv(basedir + \"test/orderFuture_test.csv\")\n",
    "submit['orderType'] = prob\n",
    "submit.to_csv(basedir + \"submit_20180121.csv\", index = False)"
   ]
  },
  {
   "cell_type": "markdown",
   "metadata": {},
   "source": [
    "## tuning"
   ]
  },
  {
   "cell_type": "code",
   "execution_count": null,
   "metadata": {
    "collapsed": false
   },
   "outputs": [],
   "source": [
    "param_test1 = {\n",
    "    'max_depth':range(3,10,2),\n",
    "    'min_child_weight':range(1,6,2),\n",
    "    'gamma':[i/10.0 for i in range(0,5)]\n",
    "}\n",
    "gsearch1 = GridSearchCV(estimator = XGBClassifier(learning_rate =0.1, n_estimators=259, max_depth=5,\n",
    "                                        min_child_weight=1, subsample=0.8, colsample_bytree=0.8,\n",
    "                                        objective= 'binary:logistic', nthread=4, scale_pos_weight=1, seed=27), \n",
    "                       param_grid = param_test1, scoring='roc_auc', n_jobs=1, iid=False, cv=5, verbose=5)\n",
    "gsearch1.fit(train_train[Feature], train_train[target])\n",
    "\n",
    "gsearch1.grid_scores_, gsearch1.best_params_, gsearch1.best_score_\n",
    "\n"
   ]
  }
 ],
 "metadata": {
  "kernelspec": {
   "display_name": "Python 2",
   "language": "python",
   "name": "python2"
  },
  "language_info": {
   "codemirror_mode": {
    "name": "ipython",
    "version": 2
   },
   "file_extension": ".py",
   "mimetype": "text/x-python",
   "name": "python",
   "nbconvert_exporter": "python",
   "pygments_lexer": "ipython2",
   "version": "2.7.13"
  }
 },
 "nbformat": 4,
 "nbformat_minor": 2
}
